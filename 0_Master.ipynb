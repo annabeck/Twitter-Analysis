{
 "cells": [
  {
   "cell_type": "markdown",
   "metadata": {},
   "source": [
    "### Import"
   ]
  },
  {
   "cell_type": "code",
   "execution_count": 1,
   "metadata": {},
   "outputs": [],
   "source": [
    "#1_merge_csv.ipynb\n",
    "import os\n",
    "import glob\n",
    "import pandas as pd\n",
    "\n",
    "#2_DataPrep.ipynb\n",
    "import pandas as pd\n",
    "import numpy as np\n",
    "import matplotlib.pyplot as plt\n",
    "from matplotlib.pyplot import figure\n",
    "import re\n",
    "import time\n",
    "import os\n",
    "\n",
    "#3_Descriptive.ipynb\n",
    "import pandas as pd\n",
    "import numpy as np\n",
    "import matplotlib.pyplot as plt\n",
    "from matplotlib.pyplot import figure\n",
    "import re\n",
    "import time\n",
    "import os\n",
    "import matplotlib\n",
    "\n",
    "#4_translate.ipynb\n",
    "import pandas as pd\n",
    "import numpy as np\n",
    "import matplotlib.pyplot as plt\n",
    "from matplotlib.pyplot import figure\n",
    "import re\n",
    "import time\n",
    "import os\n",
    "from translate import Translator\n",
    "\n",
    "#5_Network DataPrep.ipynb\n",
    "import pandas as pd\n",
    "import numpy as np\n",
    "import matplotlib.pyplot as plt\n",
    "from matplotlib.pyplot import figure\n",
    "import re\n",
    "import collections\n",
    "import community\n",
    "import networkx as nx \n",
    "from netwulf import visualize\n",
    "\n",
    "#6_BigramsNetwork.ipynb\n",
    "import pandas as pd\n",
    "import numpy as np\n",
    "import matplotlib.pyplot as plt\n",
    "from matplotlib.pyplot import figure\n",
    "import seaborn as sns\n",
    "import itertools\n",
    "import collections\n",
    "import re\n",
    "import time\n",
    "import community\n",
    "import os\n",
    "import nltk\n",
    "from nltk import bigrams\n",
    "import networkx as nx\n",
    "from nltk.corpus import stopwords\n",
    "#nltk.download('stopwords')\n",
    "from stop_words import get_stop_words\n",
    "\n",
    "#7_Sentiment.ipynb\n",
    "import pandas as pd\n",
    "import numpy as np\n",
    "import matplotlib.pyplot as plt\n",
    "from matplotlib.pyplot import figure\n",
    "import re\n",
    "import time\n",
    "import os\n",
    "#from afinn import Afinn\n",
    "from vaderSentiment.vaderSentiment import SentimentIntensityAnalyzer\n",
    "\n",
    "#8_Prediction.ipynb\n",
    "import pandas as pd\n",
    "import numpy as np\n",
    "import matplotlib.pyplot as plt\n",
    "from matplotlib.pyplot import figure\n",
    "import datetime\n",
    "import re\n",
    "import sklearn as skl\n",
    "from sklearn.linear_model import Lasso, LinearRegression\n",
    "from sklearn import linear_model\n",
    "from sklearn.pipeline import make_pipeline\n",
    "from sklearn.preprocessing import PolynomialFeatures, StandardScaler\n",
    "from sklearn import metrics\n",
    "from sklearn.model_selection import train_test_split\n",
    "from sklearn.model_selection import KFold\n",
    "from sklearn.linear_model import Ridge\n",
    "from sklearn.linear_model import ElasticNet\n",
    "from sklearn.feature_selection import SelectFromModel\n",
    "from sklearn import linear_model\n",
    "from sklearn.metrics import mean_absolute_error as mae, mean_squared_error as mse\n",
    "from sklearn.model_selection import train_test_split\n",
    "from sklearn.linear_model import Lasso\n",
    "from sklearn.ensemble import RandomForestRegressor\n",
    "from sklearn.model_selection import learning_curve\n",
    "from sklearn.model_selection import validation_curve\n",
    "from sklearn.model_selection import GridSearchCV\n",
    "from sklearn.ensemble import RandomForestClassifier"
   ]
  },
  {
   "cell_type": "markdown",
   "metadata": {},
   "source": [
    "# 1_merge_csv"
   ]
  },
  {
   "cell_type": "code",
   "execution_count": null,
   "metadata": {},
   "outputs": [],
   "source": [
    "#os.chdir(\"TwitterData\")"
   ]
  },
  {
   "cell_type": "code",
   "execution_count": 2,
   "metadata": {},
   "outputs": [],
   "source": [
    "extension = 'csv'\n",
    "all_filenames = [i for i in glob.glob('*.{}'.format(extension))]"
   ]
  },
  {
   "cell_type": "code",
   "execution_count": 3,
   "metadata": {},
   "outputs": [],
   "source": [
    "#combine all files in the list\n",
    "combined_csv = pd.concat([pd.read_csv(f) for f in all_filenames ])\n",
    "#export to csv\n",
    "combined_csv.to_csv( \"combined_csv.csv\", index=False, encoding='utf-8-sig')"
   ]
  },
  {
   "cell_type": "markdown",
   "metadata": {},
   "source": [
    "# 2_DataPrep"
   ]
  },
  {
   "cell_type": "code",
   "execution_count": 21,
   "metadata": {},
   "outputs": [],
   "source": [
    "#open the raw data\n",
    "rawdata = pd.read_csv('combined_csv.csv', \",\")\n",
    "\n",
    "#merge politician party\n",
    "partier = pd.read_csv('Partier.csv', \",\")\n",
    "data = rawdata.merge(partier, how='left' ,left_on= 'Account', right_on ='Navn')\n",
    "\n",
    "#rename columns\n",
    "data = data.rename(index=str, columns={'User Name':\"User_Name\", 'Followers at Posting':'Followers', 'Screen Name': 'Screen_Name', 'Link 1': 'Link_1', 'Final Link 1': 'Final_Link_1', 'Link 2': 'Link_2', 'Final Link 2': 'Final_Link_2'})\n",
    "\n",
    "#correct two random named accounts\n",
    "data.loc[data['User_Name'] == 'LiseBech', 'Parti'] = \"DF\"\n",
    "data.loc[data['User_Name'] == 'renegadedreng', 'Parti'] = \"A\"\n",
    "data.loc[data['User_Name'] == 'sfhoni', 'Parti'] = \"SF\"\n",
    "\n",
    "#check for missing values\n",
    "#mis = data[data['Parti'].isnull()]\n",
    "\n",
    "partierblok = pd.read_csv('PartierBlokke.csv', \";\")\n",
    "data = data.merge(partierblok, how='left' ,left_on= 'Parti', right_on ='Parti')\n",
    "data = data.drop(columns=['Parti'])\n",
    "data = data.rename(index=str, columns={\"Parti_ny\": \"Parti\"})"
   ]
  },
  {
   "cell_type": "code",
   "execution_count": 22,
   "metadata": {},
   "outputs": [],
   "source": [
    "# create a dummy indicating party-accounts\n",
    "data['Account_Type'] = 0  \n",
    "\n",
    "data.loc[data['Account'] == 'Venstre', 'Account_Type'] = 1\n",
    "data.loc[data['Account'] == 'Enhedslisten', 'Account_Type'] = 1\n",
    "data.loc[data['Account'] == 'SF', 'Account_Type'] = 1\n",
    "data.loc[data['Account'] == 'Radikale Venstre', 'Account_Type'] = 1\n",
    "data.loc[data['Account'] == 'Socialdemokratiet', 'Account_Type'] = 1"
   ]
  },
  {
   "cell_type": "code",
   "execution_count": 23,
   "metadata": {},
   "outputs": [],
   "source": [
    "# dato\n",
    "data['Date_Temp'] = data.Created.apply(lambda x: x[0:-4])\n",
    "data['Date'] = pd.to_datetime(data.Date_Temp.str.strip(), format = '%Y-%m-%d %H:%M:%S')\n",
    "data = data.drop(['Created', 'Date_Temp'], axis=1)\n",
    "data['Ymd'] = data.Date.apply(lambda x: x.date())"
   ]
  },
  {
   "cell_type": "code",
   "execution_count": 25,
   "metadata": {},
   "outputs": [],
   "source": [
    "#Create a dummy indicating whether the tweet is a re-tweet\n",
    "data['Msgfrst2'] = data.Message.apply(lambda x: x[0:2])\n",
    "data['Retweet_WOC'] = np.where(data['Msgfrst2']=='RT', 1, 0)\n",
    "data = data.drop(columns=['Msgfrst2'])"
   ]
  },
  {
   "cell_type": "code",
   "execution_count": 26,
   "metadata": {},
   "outputs": [],
   "source": [
    "#Create a dymme indicating wheather the tweet beings with \"@\" and is thereby a comment\n",
    "data['Msgfrst3'] = data.Message.apply(lambda x: x[0:1])\n",
    "data['Comment'] = np.where(data['Msgfrst3']=='@', 1, 0)\n",
    "data = data.drop(columns=['Msgfrst3'])"
   ]
  },
  {
   "cell_type": "code",
   "execution_count": 27,
   "metadata": {},
   "outputs": [],
   "source": [
    "#replace missing values with 0 in order to run loop\n",
    "data.loc[pd.isnull(data['Link_1']), 'Link_1'] = \"No_Link\""
   ]
  },
  {
   "cell_type": "code",
   "execution_count": 28,
   "metadata": {},
   "outputs": [
    {
     "data": {
      "text/plain": [
       "1685"
      ]
     },
     "execution_count": 28,
     "metadata": {},
     "output_type": "execute_result"
    }
   ],
   "source": [
    "# Create a dummy for re-tweets with comments\n",
    "Retweet_WC = []\n",
    "count_ = 0\n",
    "for i in range(len(data)):\n",
    "\n",
    "    if 'https://twitter.com' in data['Link_1'][i] and data['Retweet_WOC'][i] ==0 and data['Comment'][i] ==0:\n",
    "        count_ = count_ + 1\n",
    "        Retweet_WC.append(1)\n",
    "            \n",
    "    else:\n",
    "        Retweet_WC.append(0)\n",
    "count_"
   ]
  },
  {
   "cell_type": "code",
   "execution_count": 30,
   "metadata": {},
   "outputs": [],
   "source": [
    "#Append new variable to dataset\n",
    "data['Retweet_WC'] = pd.DataFrame(Retweet_WC, index = data.index )"
   ]
  },
  {
   "cell_type": "code",
   "execution_count": 32,
   "metadata": {},
   "outputs": [],
   "source": [
    "rt_woc = data['Retweet_WOC'].value_counts()\n",
    "rt_wc = data['Retweet_WC'].value_counts()\n",
    "comments = data['Comment'].value_counts()\n",
    "\n",
    "print(rt_woc)\n",
    "print(rt_wc)\n",
    "print(comments)"
   ]
  },
  {
   "cell_type": "code",
   "execution_count": 37,
   "metadata": {},
   "outputs": [],
   "source": [
    "data.to_csv('data.csv', index=False, sep = ',')"
   ]
  },
  {
   "cell_type": "markdown",
   "metadata": {},
   "source": [
    "# 3_Descriptive"
   ]
  },
  {
   "cell_type": "code",
   "execution_count": 55,
   "metadata": {},
   "outputs": [],
   "source": [
    "data = pd.read_csv('data.csv', \",\")"
   ]
  },
  {
   "cell_type": "code",
   "execution_count": 57,
   "metadata": {},
   "outputs": [
    {
     "data": {
      "text/plain": [
       "A    5700\n",
       "V    3556\n",
       "Ø    3365\n",
       "Å    2881\n",
       "O    2599\n",
       "F    2514\n",
       "I    2383\n",
       "B    1820\n",
       "C    1571\n",
       "Name: Parti, dtype: int64"
      ]
     },
     "execution_count": 57,
     "metadata": {},
     "output_type": "execute_result"
    }
   ],
   "source": [
    "#Total activities per party\n",
    "parti_count = data['Parti'].value_counts()\n",
    "parti_count"
   ]
  },
  {
   "cell_type": "code",
   "execution_count": 58,
   "metadata": {},
   "outputs": [
    {
     "data": {
      "text/html": [
       "<div>\n",
       "<style scoped>\n",
       "    .dataframe tbody tr th:only-of-type {\n",
       "        vertical-align: middle;\n",
       "    }\n",
       "\n",
       "    .dataframe tbody tr th {\n",
       "        vertical-align: top;\n",
       "    }\n",
       "\n",
       "    .dataframe thead th {\n",
       "        text-align: right;\n",
       "    }\n",
       "</style>\n",
       "<table border=\"1\" class=\"dataframe\">\n",
       "  <thead>\n",
       "    <tr style=\"text-align: right;\">\n",
       "      <th></th>\n",
       "      <th>Account</th>\n",
       "    </tr>\n",
       "    <tr>\n",
       "      <th>Parti</th>\n",
       "      <th></th>\n",
       "    </tr>\n",
       "  </thead>\n",
       "  <tbody>\n",
       "    <tr>\n",
       "      <th>A</th>\n",
       "      <td>34</td>\n",
       "    </tr>\n",
       "    <tr>\n",
       "      <th>B</th>\n",
       "      <td>9</td>\n",
       "    </tr>\n",
       "    <tr>\n",
       "      <th>C</th>\n",
       "      <td>8</td>\n",
       "    </tr>\n",
       "    <tr>\n",
       "      <th>F</th>\n",
       "      <td>8</td>\n",
       "    </tr>\n",
       "    <tr>\n",
       "      <th>I</th>\n",
       "      <td>12</td>\n",
       "    </tr>\n",
       "    <tr>\n",
       "      <th>O</th>\n",
       "      <td>20</td>\n",
       "    </tr>\n",
       "    <tr>\n",
       "      <th>V</th>\n",
       "      <td>27</td>\n",
       "    </tr>\n",
       "    <tr>\n",
       "      <th>Å</th>\n",
       "      <td>10</td>\n",
       "    </tr>\n",
       "    <tr>\n",
       "      <th>Ø</th>\n",
       "      <td>13</td>\n",
       "    </tr>\n",
       "  </tbody>\n",
       "</table>\n",
       "</div>"
      ],
      "text/plain": [
       "       Account\n",
       "Parti         \n",
       "A           34\n",
       "B            9\n",
       "C            8\n",
       "F            8\n",
       "I           12\n",
       "O           20\n",
       "V           27\n",
       "Å           10\n",
       "Ø           13"
      ]
     },
     "execution_count": 58,
     "metadata": {},
     "output_type": "execute_result"
    }
   ],
   "source": [
    "# antal twitterprofiler per parti\n",
    "Member_Count = data.groupby('Parti').Account.nunique()\n",
    "Member_Count = pd.DataFrame(Member_Count)\n",
    "Member_Count"
   ]
  },
  {
   "cell_type": "code",
   "execution_count": 59,
   "metadata": {},
   "outputs": [
    {
     "data": {
      "text/plain": [
       "<matplotlib.axes._subplots.AxesSubplot at 0x123229e48>"
      ]
     },
     "execution_count": 59,
     "metadata": {},
     "output_type": "execute_result"
    },
    {
     "data": {
      "image/png": "[encoded data removed]",
      "text/plain": [
       "<Figure size 1280x640 with 1 Axes>"
      ]
     },
     "metadata": {},
     "output_type": "display_data"
    }
   ],
   "source": [
    "#Activities over time\n",
    "Ymd_Count = pd.Series(data.Ymd).value_counts()\n",
    "figure(num=None, figsize=(16, 8), dpi=80, facecolor='w', edgecolor='k')\n",
    "Ymd_Count.sort_index().plot.bar(color=(0.2, 0.4, 0.6, 0.6))"
   ]
  },
  {
   "cell_type": "code",
   "execution_count": 60,
   "metadata": {},
   "outputs": [
    {
     "data": {
      "text/plain": [
       "Parti\n",
       "A    167.647059\n",
       "B    202.222222\n",
       "C    196.375000\n",
       "F    314.250000\n",
       "I    198.583333\n",
       "O    129.950000\n",
       "V    131.703704\n",
       "Å    288.100000\n",
       "Ø    258.846154\n",
       "Name: Count, dtype: float64"
      ]
     },
     "execution_count": 60,
     "metadata": {},
     "output_type": "execute_result"
    }
   ],
   "source": [
    "#Avg. activity per parti member\n",
    "# Antal twets per partimedlem inklusiv parti-account\n",
    "temp = data.groupby([\"Parti\", \"Account\"]).size().reset_index(name=\"Count\")\n",
    "Avg_Act = (temp.groupby(['Parti', 'Account'], as_index=False).mean().groupby('Parti')['Count'].mean())\n",
    "Avg_Act"
   ]
  },
  {
   "cell_type": "code",
   "execution_count": 61,
   "metadata": {},
   "outputs": [
    {
     "data": {
      "text/html": [
       "<div>\n",
       "<style scoped>\n",
       "    .dataframe tbody tr th:only-of-type {\n",
       "        vertical-align: middle;\n",
       "    }\n",
       "\n",
       "    .dataframe tbody tr th {\n",
       "        vertical-align: top;\n",
       "    }\n",
       "\n",
       "    .dataframe thead th {\n",
       "        text-align: right;\n",
       "    }\n",
       "</style>\n",
       "<table border=\"1\" class=\"dataframe\">\n",
       "  <thead>\n",
       "    <tr style=\"text-align: right;\">\n",
       "      <th></th>\n",
       "      <th>Account</th>\n",
       "      <th>User_Name</th>\n",
       "      <th>Followers</th>\n",
       "      <th>Type</th>\n",
       "      <th>Likes</th>\n",
       "      <th>Retweets</th>\n",
       "      <th>URL</th>\n",
       "      <th>Message</th>\n",
       "      <th>Screen_Name</th>\n",
       "      <th>Link_1</th>\n",
       "      <th>...</th>\n",
       "      <th>Blok</th>\n",
       "      <th>Parti</th>\n",
       "      <th>Parti_tal</th>\n",
       "      <th>Parti_farve</th>\n",
       "      <th>Account_Type</th>\n",
       "      <th>Date</th>\n",
       "      <th>Ymd</th>\n",
       "      <th>Retweet_WOC</th>\n",
       "      <th>Comment</th>\n",
       "      <th>Retweet_WC</th>\n",
       "    </tr>\n",
       "  </thead>\n",
       "  <tbody>\n",
       "    <tr>\n",
       "      <th>0</th>\n",
       "      <td>Hans Kristian Skibby</td>\n",
       "      <td>Hans_Kr_Skibby</td>\n",
       "      <td>2088.0</td>\n",
       "      <td>Tweet</td>\n",
       "      <td>27</td>\n",
       "      <td>14</td>\n",
       "      <td>https://twitter.com/Hans_Kr_Skibby/status/1123...</td>\n",
       "      <td>RT @SusieJessen: I dag klokken 10.15 er justit...</td>\n",
       "      <td>Hans_Kr_Skibby</td>\n",
       "      <td>No_Link</td>\n",
       "      <td>...</td>\n",
       "      <td>blue</td>\n",
       "      <td>O</td>\n",
       "      <td>3</td>\n",
       "      <td>#FBD000</td>\n",
       "      <td>0</td>\n",
       "      <td>2019-05-02 09:12:19</td>\n",
       "      <td>2019-05-02</td>\n",
       "      <td>1</td>\n",
       "      <td>0</td>\n",
       "      <td>0</td>\n",
       "    </tr>\n",
       "  </tbody>\n",
       "</table>\n",
       "<p>1 rows × 25 columns</p>\n",
       "</div>"
      ],
      "text/plain": [
       "                Account       User_Name  Followers   Type  Likes  Retweets  \\\n",
       "0  Hans Kristian Skibby  Hans_Kr_Skibby     2088.0  Tweet     27        14   \n",
       "\n",
       "                                                 URL  \\\n",
       "0  https://twitter.com/Hans_Kr_Skibby/status/1123...   \n",
       "\n",
       "                                             Message     Screen_Name   Link_1  \\\n",
       "0  RT @SusieJessen: I dag klokken 10.15 er justit...  Hans_Kr_Skibby  No_Link   \n",
       "\n",
       "      ...      Blok Parti Parti_tal  Parti_farve Account_Type  \\\n",
       "0     ...      blue     O         3      #FBD000            0   \n",
       "\n",
       "                  Date         Ymd  Retweet_WOC Comment  Retweet_WC  \n",
       "0  2019-05-02 09:12:19  2019-05-02            1       0           0  \n",
       "\n",
       "[1 rows x 25 columns]"
      ]
     },
     "execution_count": 61,
     "metadata": {},
     "output_type": "execute_result"
    }
   ],
   "source": [
    "data.head(1)"
   ]
  },
  {
   "cell_type": "code",
   "execution_count": 62,
   "metadata": {},
   "outputs": [],
   "source": [
    "RT_WOC_mean = (data.groupby(['Parti', 'Account'], as_index=False).mean().groupby('Parti')['Retweet_WOC'].mean())"
   ]
  },
  {
   "cell_type": "code",
   "execution_count": 63,
   "metadata": {},
   "outputs": [],
   "source": [
    "RT_WC_mean = (data.groupby(['Parti', 'Account'], as_index=False).mean().groupby('Parti')['Retweet_WC'].mean())"
   ]
  },
  {
   "cell_type": "code",
   "execution_count": 64,
   "metadata": {},
   "outputs": [],
   "source": [
    "COM_mean = (data.groupby(['Parti', 'Account'], as_index=False).mean().groupby('Parti')['Comment'].mean())"
   ]
  },
  {
   "cell_type": "code",
   "execution_count": 65,
   "metadata": {},
   "outputs": [],
   "source": [
    "T_mean = 1 - (RT_WOC_mean+RT_WC_mean+COM_mean)"
   ]
  },
  {
   "cell_type": "code",
   "execution_count": 101,
   "metadata": {
    "scrolled": true
   },
   "outputs": [
    {
     "data": {
      "image/png": "[encoded data removed]",
      "text/plain": [
       "<Figure size 1280x640 with 1 Axes>"
      ]
     },
     "metadata": {},
     "output_type": "display_data"
    }
   ],
   "source": [
    "matplotlib.rc('xtick', labelsize=20)     \n",
    "matplotlib.rc('ytick', labelsize=15)\n",
    "\n",
    "figure(num=None, figsize=(16, 8), dpi=80, facecolor='w', edgecolor='k')\n",
    "\n",
    "x_parti, y_RT_WOC = zip(*RT_WOC_mean.items())\n",
    "y_RT_WOC = np.array(y_RT_WOC)\n",
    "x_parti, y_RT_WC = zip(*RT_WC_mean.items())\n",
    "y_RT_WC = np.array(y_RT_WC)\n",
    "x_parti, y_COM = zip(*COM_mean.items())\n",
    "y_COM = np.array(y_COM)\n",
    "x_parti, y_T = zip(*T_mean.items())\n",
    "y_T = np.array(y_T)\n",
    "\n",
    "Color_Parti = ('#C30915','#7C2984','#99BF00','#F30379','#01CBD3','#FBD000','#194266','#009527','#FF7A00')\n",
    "\n",
    "bottom1 = (y_T+y_COM)\n",
    "\n",
    "p1 = plt.bar(x_parti, y_T, color = Color_Parti)\n",
    "p2 = plt.bar(x_parti, y_COM, bottom=y_T, color = Color_Parti, hatch = '////', edgecolor = 'white', linewidth = '1')\n",
    "p3 = plt.bar(x_parti, y_RT_WC, bottom=y_T+y_COM, color = Color_Parti, hatch = '....', edgecolor = 'white', linewidth = '1')\n",
    "p4 = plt.bar(x_parti, y_RT_WOC, bottom=y_T+y_COM+y_RT_WC, color = Color_Parti, hatch = '\\\\\\\\', edgecolor = 'white', linewidth = '1')\n",
    "\n",
    "\n",
    "#plt.title('Activity Shares')\n",
    "plt.xticks(x_parti)\n",
    "plt.legend((p4[0], p3[0], p2[0], p1[0]), ('RT w/o annotation', 'RT w. annotation', 'Comment','Tweet'),prop={'size': 15})\n",
    "\n",
    "plt.show()\n"
   ]
  },
  {
   "cell_type": "markdown",
   "metadata": {},
   "source": [
    "# 4_translate"
   ]
  },
  {
   "cell_type": "code",
   "execution_count": 446,
   "metadata": {},
   "outputs": [],
   "source": [
    "# reading test2.csv\n",
    "df = pd.read_csv('test2.csv', \",\")\n",
    "#df"
   ]
  },
  {
   "cell_type": "code",
   "execution_count": 447,
   "metadata": {},
   "outputs": [],
   "source": [
    "# cleaning and preparing data for translation\n",
    "RE_EMOJI = re.compile('[\\U00010000-\\U0010ffff]', flags=re.UNICODE)\n",
    "def step1(temp):\n",
    "    temp = re.sub(r'RT \\@(.*: )', '__RT__ ', temp)\n",
    "    temp = re.sub(r'https?:\\/\\/.([^\\s]+)', '__link__ ', temp)\n",
    "    temp = re.sub(r'@\\S*\\s?', '__profile__ ', temp)\n",
    "    temp = RE_EMOJI.sub(r'__emoji__ ', temp)\n",
    "    temp = re.sub(r'\\S+@\\S+', '__email__ ', temp)\n",
    "    temp = re.sub(r'\\S*…\\S*?', ' __ending__ ', temp)\n",
    "    #temp = re.sub(r'#\\S*\\s?', ' __hashtag__ ', temp) #outcommented due to keyword extraction\n",
    "    temp = re.sub(r'(24:00|2[0-3]:[0-5][0-9]|[0-1][0-9]:[0-5][0-9])', \"__time__ \", temp)\n",
    "    temp = re.sub('  ', ' ', temp)\n",
    "    return temp\n",
    "df['text'] = df.Message.apply(lambda x: step1(x))"
   ]
  },
  {
   "cell_type": "code",
   "execution_count": 468,
   "metadata": {},
   "outputs": [],
   "source": [
    "# splitting data into 3 sets\n",
    "df['text_len'] = df.text.apply(lambda x: len(x))\n",
    "df['text_sum'] = df.text_len.cumsum()\n",
    "\n",
    "data_1 = df.iloc[0:10000]\n",
    "data_2 = df.iloc[10000:20000]\n",
    "data_3 = df.iloc[20000:]\n",
    "\n",
    "#data_1.to_csv('data_1.csv')\n",
    "#data_2.to_csv('data_2.csv')\n",
    "#data_3.to_csv('data_3.csv')"
   ]
  },
  {
   "cell_type": "code",
   "execution_count": 502,
   "metadata": {},
   "outputs": [],
   "source": [
    "# reading data_i.csv\n",
    "# df = pd.read_csv('data_3.csv', index_col=[0])\n",
    "# len(df)"
   ]
  },
  {
   "cell_type": "code",
   "execution_count": 494,
   "metadata": {
    "scrolled": true
   },
   "outputs": [],
   "source": [
    "# translating from danish to english using the python language translate\n",
    "# the ibrary is a python wrapper of the Microsoft Azure API \" Translator Text API\"\n",
    "# it requires a authentication_key which we have outcommented\n",
    "translator = Translator(to_lang=\"En\",\n",
    "                        from_lang=\"Da\",\n",
    "                        provider='microsoft',\n",
    "                        secret_access_key=':)')\n",
    "def step2(temp):\n",
    "    temp = translator.translate(temp)\n",
    "    return temp\n",
    "df['oversat'] = df.text.apply(lambda x: step2(x))\n",
    "\n",
    "# run time\n",
    "# Data_1.csv (10000 observations) took 8500 sec (2,3 hours)\n",
    "# Data_2.csv (10000 observations) took 8500 sec (2,3 hours)\n",
    "# Data_3.csv (6389 observations) took 5224 sec (1,5 hours)"
   ]
  },
  {
   "cell_type": "code",
   "execution_count": 496,
   "metadata": {},
   "outputs": [],
   "source": [
    "# Saving translation of data_i.csv\n",
    "#df.to_csv('data_3_oversat.csv')"
   ]
  },
  {
   "cell_type": "code",
   "execution_count": 504,
   "metadata": {},
   "outputs": [],
   "source": [
    "# merging the 3 datasets together\n",
    "data_1_oversat = pd.read_csv('data_1_oversat.csv', index_col=[0])\n",
    "data_2_oversat = pd.read_csv('data_2_oversat.csv', index_col=[0])\n",
    "data_3_oversat = pd.read_csv('data_3_oversat.csv', index_col=[0])\n",
    "df = data_1_oversat.append(data_2_oversat)\n",
    "df = df.append(data_3_oversat)\n",
    "\n",
    "# saving translated.csv\n",
    "df.to_csv('translated.csv')"
   ]
  },
  {
   "cell_type": "markdown",
   "metadata": {},
   "source": [
    "# 5_Network"
   ]
  },
  {
   "cell_type": "markdown",
   "metadata": {},
   "source": [
    "## Retweet Network w/o annotations"
   ]
  },
  {
   "cell_type": "code",
   "execution_count": 23,
   "metadata": {
    "collapsed": true
   },
   "outputs": [
    {
     "name": "stdout",
     "output_type": "stream",
     "text": [
      "(9221, 25)\n"
     ]
    },
    {
     "data": {
      "text/html": [
       "<div>\n",
       "<style scoped>\n",
       "    .dataframe tbody tr th:only-of-type {\n",
       "        vertical-align: middle;\n",
       "    }\n",
       "\n",
       "    .dataframe tbody tr th {\n",
       "        vertical-align: top;\n",
       "    }\n",
       "\n",
       "    .dataframe thead th {\n",
       "        text-align: right;\n",
       "    }\n",
       "</style>\n",
       "<table border=\"1\" class=\"dataframe\">\n",
       "  <thead>\n",
       "    <tr style=\"text-align: right;\">\n",
       "      <th></th>\n",
       "      <th>Account</th>\n",
       "      <th>User_Name</th>\n",
       "      <th>Followers</th>\n",
       "      <th>Type</th>\n",
       "      <th>Likes</th>\n",
       "      <th>Retweets</th>\n",
       "      <th>URL</th>\n",
       "      <th>Message</th>\n",
       "      <th>Screen_Name</th>\n",
       "      <th>Link_1</th>\n",
       "      <th>...</th>\n",
       "      <th>Blok</th>\n",
       "      <th>Parti</th>\n",
       "      <th>Parti_tal</th>\n",
       "      <th>Parti_farve</th>\n",
       "      <th>Account_Type</th>\n",
       "      <th>Date</th>\n",
       "      <th>Ymd</th>\n",
       "      <th>Retweet_WOC</th>\n",
       "      <th>Comment</th>\n",
       "      <th>Retweet_WC</th>\n",
       "    </tr>\n",
       "  </thead>\n",
       "  <tbody>\n",
       "    <tr>\n",
       "      <th>0</th>\n",
       "      <td>Hans Kristian Skibby</td>\n",
       "      <td>hans_kr_skibby</td>\n",
       "      <td>2088.0</td>\n",
       "      <td>Tweet</td>\n",
       "      <td>27</td>\n",
       "      <td>14</td>\n",
       "      <td>https://twitter.com/Hans_Kr_Skibby/status/1123...</td>\n",
       "      <td>rt @susiejessen: i dag klokken 10.15 er justit...</td>\n",
       "      <td>Hans_Kr_Skibby</td>\n",
       "      <td>no_link</td>\n",
       "      <td>...</td>\n",
       "      <td>blue</td>\n",
       "      <td>O</td>\n",
       "      <td>3</td>\n",
       "      <td>#FBD000</td>\n",
       "      <td>0</td>\n",
       "      <td>2019-05-02 09:12:19</td>\n",
       "      <td>2019-05-02</td>\n",
       "      <td>1</td>\n",
       "      <td>0</td>\n",
       "      <td>0</td>\n",
       "    </tr>\n",
       "    <tr>\n",
       "      <th>1</th>\n",
       "      <td>Hans Kristian Skibby</td>\n",
       "      <td>hans_kr_skibby</td>\n",
       "      <td>2083.0</td>\n",
       "      <td>Tweet</td>\n",
       "      <td>8</td>\n",
       "      <td>3</td>\n",
       "      <td>https://twitter.com/Hans_Kr_Skibby/status/1123...</td>\n",
       "      <td>rt @adsboladsbl: fuldstændig uacceptabelt: sun...</td>\n",
       "      <td>Hans_Kr_Skibby</td>\n",
       "      <td>no_link</td>\n",
       "      <td>...</td>\n",
       "      <td>blue</td>\n",
       "      <td>O</td>\n",
       "      <td>3</td>\n",
       "      <td>#FBD000</td>\n",
       "      <td>0</td>\n",
       "      <td>2019-04-30 16:41:49</td>\n",
       "      <td>2019-04-30</td>\n",
       "      <td>1</td>\n",
       "      <td>0</td>\n",
       "      <td>0</td>\n",
       "    </tr>\n",
       "  </tbody>\n",
       "</table>\n",
       "<p>2 rows × 25 columns</p>\n",
       "</div>"
      ],
      "text/plain": [
       "                Account       User_Name  Followers   Type  Likes  Retweets  \\\n",
       "0  Hans Kristian Skibby  hans_kr_skibby     2088.0  Tweet     27        14   \n",
       "1  Hans Kristian Skibby  hans_kr_skibby     2083.0  Tweet      8         3   \n",
       "\n",
       "                                                 URL  \\\n",
       "0  https://twitter.com/Hans_Kr_Skibby/status/1123...   \n",
       "1  https://twitter.com/Hans_Kr_Skibby/status/1123...   \n",
       "\n",
       "                                             Message     Screen_Name   Link_1  \\\n",
       "0  rt @susiejessen: i dag klokken 10.15 er justit...  Hans_Kr_Skibby  no_link   \n",
       "1  rt @adsboladsbl: fuldstændig uacceptabelt: sun...  Hans_Kr_Skibby  no_link   \n",
       "\n",
       "      ...      Blok Parti Parti_tal  Parti_farve Account_Type  \\\n",
       "0     ...      blue     O         3      #FBD000            0   \n",
       "1     ...      blue     O         3      #FBD000            0   \n",
       "\n",
       "                  Date         Ymd  Retweet_WOC Comment  Retweet_WC  \n",
       "0  2019-05-02 09:12:19  2019-05-02            1       0           0  \n",
       "1  2019-04-30 16:41:49  2019-04-30            1       0           0  \n",
       "\n",
       "[2 rows x 25 columns]"
      ]
     },
     "execution_count": 23,
     "metadata": {},
     "output_type": "execute_result"
    }
   ],
   "source": [
    "#read data\n",
    "df = pd.read_csv('data.csv')\n",
    "df['User_Name']=df['User_Name'].str.lower()    \n",
    "df['Link_1']=df['Link_1'].str.lower()    \n",
    "df['Message']=df['Message'].str.lower()    \n",
    "\n",
    "# We only need retweets (WithOutContent)\n",
    "df_A=df[(df.Retweet_WOC == 1)]"
   ]
  },
  {
   "cell_type": "markdown",
   "metadata": {},
   "source": [
    "## Prepare data for Network Analysis"
   ]
  },
  {
   "cell_type": "code",
   "execution_count": 24,
   "metadata": {},
   "outputs": [
    {
     "name": "stderr",
     "output_type": "stream",
     "text": [
      "/Users/Anna/anaconda3/lib/python3.6/site-packages/ipykernel_launcher.py:5: SettingWithCopyWarning: \n",
      "A value is trying to be set on a copy of a slice from a DataFrame.\n",
      "Try using .loc[row_indexer,col_indexer] = value instead\n",
      "\n",
      "See the caveats in the documentation: http://pandas.pydata.org/pandas-docs/stable/indexing.html#indexing-view-versus-copy\n",
      "  \"\"\"\n"
     ]
    },
    {
     "data": {
      "text/plain": [
       "(9221, 26)"
      ]
     },
     "execution_count": 24,
     "metadata": {},
     "output_type": "execute_result"
    }
   ],
   "source": [
    "# Use regex to find account retweetet from\n",
    "def rt_account(temp):\n",
    "    return re.findall(r'\\@(\\w+)\\:', temp)\n",
    "\n",
    "df_A['retweet_from'] = df_A.Message.apply(lambda x: rt_account(x)[0])\n",
    "\n",
    "df_A.shape"
   ]
  },
  {
   "cell_type": "code",
   "execution_count": 25,
   "metadata": {},
   "outputs": [
    {
     "data": {
      "text/html": [
       "<div>\n",
       "<style scoped>\n",
       "    .dataframe tbody tr th:only-of-type {\n",
       "        vertical-align: middle;\n",
       "    }\n",
       "\n",
       "    .dataframe tbody tr th {\n",
       "        vertical-align: top;\n",
       "    }\n",
       "\n",
       "    .dataframe thead th {\n",
       "        text-align: right;\n",
       "    }\n",
       "</style>\n",
       "<table border=\"1\" class=\"dataframe\">\n",
       "  <thead>\n",
       "    <tr style=\"text-align: right;\">\n",
       "      <th></th>\n",
       "      <th>0</th>\n",
       "      <th>Politicians</th>\n",
       "    </tr>\n",
       "  </thead>\n",
       "  <tbody>\n",
       "    <tr>\n",
       "      <th>0</th>\n",
       "      <td>hans_kr_skibby</td>\n",
       "      <td>1</td>\n",
       "    </tr>\n",
       "    <tr>\n",
       "      <th>1</th>\n",
       "      <td>metteabildgaard</td>\n",
       "      <td>1</td>\n",
       "    </tr>\n",
       "    <tr>\n",
       "      <th>2</th>\n",
       "      <td>liberalalliance</td>\n",
       "      <td>1</td>\n",
       "    </tr>\n",
       "    <tr>\n",
       "      <th>3</th>\n",
       "      <td>uffeelbaek</td>\n",
       "      <td>1</td>\n",
       "    </tr>\n",
       "    <tr>\n",
       "      <th>4</th>\n",
       "      <td>anehalsboe</td>\n",
       "      <td>1</td>\n",
       "    </tr>\n",
       "  </tbody>\n",
       "</table>\n",
       "</div>"
      ],
      "text/plain": [
       "                 0  Politicians\n",
       "0   hans_kr_skibby            1\n",
       "1  metteabildgaard            1\n",
       "2  liberalalliance            1\n",
       "3       uffeelbaek            1\n",
       "4       anehalsboe            1"
      ]
     },
     "execution_count": 25,
     "metadata": {},
     "output_type": "execute_result"
    }
   ],
   "source": [
    "#List with unique politicians (Of all tweets)\n",
    "politiciansA=pd.DataFrame(df.User_Name.unique())\n",
    "\n",
    "# # Add dummy indicating if the profile retweetet from is a poliician\n",
    "politiciansA['Politicians'] = 1"
   ]
  },
  {
   "cell_type": "code",
   "execution_count": 26,
   "metadata": {},
   "outputs": [],
   "source": [
    "#Adds dummy to data set\n",
    "df_A = df_A.merge(politiciansA, how='left' ,left_on= 'retweet_from', right_on =0)\n",
    "# We only want tweets, where the  the profile retweetet from is a politicians\n",
    "df_A=df_A[(df_A.Politicians == 1)]"
   ]
  },
  {
   "cell_type": "code",
   "execution_count": 27,
   "metadata": {
    "collapsed": true
   },
   "outputs": [
    {
     "data": {
      "text/plain": [
       "(3620, 6)"
      ]
     },
     "execution_count": 27,
     "metadata": {},
     "output_type": "execute_result"
    }
   ],
   "source": [
    "#Keep only relevant columns\n",
    "df_A = df_A[['User_Name','retweet_from', 'Blok', 'Parti', 'Parti_tal','Parti_farve']]"
   ]
  },
  {
   "cell_type": "code",
   "execution_count": 28,
   "metadata": {
    "collapsed": true
   },
   "outputs": [
    {
     "name": "stderr",
     "output_type": "stream",
     "text": [
      "/Users/Anna/anaconda3/lib/python3.6/site-packages/pandas/core/frame.py:6201: FutureWarning: Sorting because non-concatenation axis is not aligned. A future version\n",
      "of pandas will change to not sort by default.\n",
      "\n",
      "To accept the future behavior, pass 'sort=True'.\n",
      "\n",
      "To retain the current behavior and silence the warning, pass sort=False\n",
      "\n",
      "  sort=sort)\n"
     ]
    }
   ],
   "source": [
    "#Get unique names from the column with those re-tweeted\n",
    "tweeters = df_A[['User_Name', 'Blok', 'Parti', 'Parti_tal', 'Parti_farve']].drop_duplicates()\n",
    "\n",
    "#Get unique names from the column with those who has been re-tweeted\n",
    "re_uniques = df_A[['retweet_from']].drop_duplicates()\n",
    "\n",
    "#add their information from the full sampled data\n",
    "re_tweeted = re_uniques.merge(df[['User_Name', 'Blok', 'Parti', 'Parti_tal', 'Parti_farve']], how='left' ,left_on= 'retweet_from', right_on ='User_Name')\n",
    "\n",
    "info_rt = tweeters.append(re_tweeted)\n",
    "info_rt = info_rt[['User_Name', 'Blok', 'Parti', 'Parti_tal', 'Parti_farve']].drop_duplicates()\n"
   ]
  },
  {
   "cell_type": "markdown",
   "metadata": {},
   "source": [
    "### NODES"
   ]
  },
  {
   "cell_type": "code",
   "execution_count": 29,
   "metadata": {},
   "outputs": [
    {
     "name": "stdout",
     "output_type": "stream",
     "text": [
      "(116, 4)\n"
     ]
    },
    {
     "data": {
      "text/html": [
       "<div>\n",
       "<style scoped>\n",
       "    .dataframe tbody tr th:only-of-type {\n",
       "        vertical-align: middle;\n",
       "    }\n",
       "\n",
       "    .dataframe tbody tr th {\n",
       "        vertical-align: top;\n",
       "    }\n",
       "\n",
       "    .dataframe thead th {\n",
       "        text-align: right;\n",
       "    }\n",
       "</style>\n",
       "<table border=\"1\" class=\"dataframe\">\n",
       "  <thead>\n",
       "    <tr style=\"text-align: right;\">\n",
       "      <th></th>\n",
       "      <th>User_Name</th>\n",
       "      <th>Blok</th>\n",
       "      <th>Parti</th>\n",
       "      <th>Parti_tal</th>\n",
       "    </tr>\n",
       "  </thead>\n",
       "  <tbody>\n",
       "    <tr>\n",
       "      <th>1</th>\n",
       "      <td>hans_kr_skibby</td>\n",
       "      <td>blue</td>\n",
       "      <td>O</td>\n",
       "      <td>3</td>\n",
       "    </tr>\n",
       "    <tr>\n",
       "      <th>83</th>\n",
       "      <td>metteabildgaard</td>\n",
       "      <td>blue</td>\n",
       "      <td>C</td>\n",
       "      <td>2</td>\n",
       "    </tr>\n",
       "    <tr>\n",
       "      <th>203</th>\n",
       "      <td>liberalalliance</td>\n",
       "      <td>blue</td>\n",
       "      <td>I</td>\n",
       "      <td>4</td>\n",
       "    </tr>\n",
       "    <tr>\n",
       "      <th>281</th>\n",
       "      <td>uffeelbaek</td>\n",
       "      <td>red</td>\n",
       "      <td>Å</td>\n",
       "      <td>0</td>\n",
       "    </tr>\n",
       "    <tr>\n",
       "      <th>816</th>\n",
       "      <td>anehalsboe</td>\n",
       "      <td>red</td>\n",
       "      <td>A</td>\n",
       "      <td>5</td>\n",
       "    </tr>\n",
       "  </tbody>\n",
       "</table>\n",
       "</div>"
      ],
      "text/plain": [
       "           User_Name  Blok Parti  Parti_tal\n",
       "1     hans_kr_skibby  blue     O          3\n",
       "83   metteabildgaard  blue     C          2\n",
       "203  liberalalliance  blue     I          4\n",
       "281       uffeelbaek   red     Å          0\n",
       "816       anehalsboe   red     A          5"
      ]
     },
     "execution_count": 29,
     "metadata": {},
     "output_type": "execute_result"
    }
   ],
   "source": [
    "#List with unique politicians (Of all retweets, retweetet from a politician)\n",
    "nodes=df_A[['User_Name', 'Blok', 'Parti', 'Parti_tal']].drop_duplicates()"
   ]
  },
  {
   "cell_type": "markdown",
   "metadata": {},
   "source": [
    "### EDGES"
   ]
  },
  {
   "cell_type": "code",
   "execution_count": 30,
   "metadata": {},
   "outputs": [
    {
     "data": {
      "text/plain": [
       "(863, 3)"
      ]
     },
     "execution_count": 30,
     "metadata": {},
     "output_type": "execute_result"
    }
   ],
   "source": [
    "#Count number of unique combinations, in the 'weight' column.\n",
    "edges = df_A.groupby(['User_Name','retweet_from']).size().reset_index(name='weight')\n",
    "edges.shape"
   ]
  },
  {
   "cell_type": "markdown",
   "metadata": {},
   "source": [
    "### Create a NetworkX"
   ]
  },
  {
   "cell_type": "code",
   "execution_count": 31,
   "metadata": {
    "collapsed": true
   },
   "outputs": [
    {
     "ename": "NameError",
     "evalue": "name 'G' is not defined",
     "output_type": "error",
     "traceback": [
      "\u001b[0;31m---------------------------------------------------------------------------\u001b[0m",
      "\u001b[0;31mNameError\u001b[0m                                 Traceback (most recent call last)",
      "\u001b[0;32m<ipython-input-31-ff0f032ef61c>\u001b[0m in \u001b[0;36m<module>\u001b[0;34m()\u001b[0m\n\u001b[0;32m----> 1\u001b[0;31m \u001b[0mG\u001b[0m\u001b[0;34m.\u001b[0m\u001b[0mclear\u001b[0m\u001b[0;34m(\u001b[0m\u001b[0;34m)\u001b[0m\u001b[0;34m\u001b[0m\u001b[0m\n\u001b[0m",
      "\u001b[0;31mNameError\u001b[0m: name 'G' is not defined"
     ]
    }
   ],
   "source": [
    "G.clear()"
   ]
  },
  {
   "cell_type": "code",
   "execution_count": 32,
   "metadata": {},
   "outputs": [
    {
     "name": "stdout",
     "output_type": "stream",
     "text": [
      "Name: \n",
      "Type: Graph\n",
      "Number of nodes: 133\n",
      "Number of edges: 676\n",
      "Average degree:  10.1654\n"
     ]
    }
   ],
   "source": [
    "G = nx.from_pandas_edgelist(edges, 'User_Name', 'retweet_from', 'weight')\n",
    "print(nx.info(G))"
   ]
  },
  {
   "cell_type": "markdown",
   "metadata": {},
   "source": [
    "### Best Community Partition"
   ]
  },
  {
   "cell_type": "code",
   "execution_count": 33,
   "metadata": {},
   "outputs": [],
   "source": [
    "partition = community.best_partition(G)\n",
    "communi_seq=partition.values()\n",
    "communi_count=collections.Counter(communi_seq)\n",
    "cu, cnt =zip(*communi_count.items())"
   ]
  },
  {
   "cell_type": "code",
   "execution_count": 34,
   "metadata": {},
   "outputs": [
    {
     "data": {
      "image/png": "[encoded data removed]",
      "text/plain": [
       "<Figure size 432x288 with 1 Axes>"
      ]
     },
     "metadata": {},
     "output_type": "display_data"
    }
   ],
   "source": [
    "plt.bar(cu, cnt, width =0.35, color='g')\n",
    "plt.show()"
   ]
  },
  {
   "cell_type": "code",
   "execution_count": 35,
   "metadata": {},
   "outputs": [
    {
     "name": "stdout",
     "output_type": "stream",
     "text": [
      "changing directory to /Users/Anna/.netwulf\n",
      "starting server here ... /Users/Anna/.netwulf\n"
     ]
    },
    {
     "name": "stderr",
     "output_type": "stream",
     "text": [
      "127.0.0.1 - - [22/May/2019 18:37:05] \"GET /?data=tmp_16ae0674111.json&config=config_tmp_16ae0674111.json HTTP/1.1\" 200 -\n",
      "127.0.0.1 - - [22/May/2019 18:37:05] \"GET /config_tmp_16ae0674111.json HTTP/1.1\" 200 -\n",
      "127.0.0.1 - - [22/May/2019 18:37:05] \"GET /tmp_16ae0674111.json HTTP/1.1\" 200 -\n",
      "127.0.0.1 - - [22/May/2019 18:37:05] code 404, message File not found\n",
      "127.0.0.1 - - [22/May/2019 18:37:05] \"GET /favicon.ico HTTP/1.1\" 404 -\n"
     ]
    },
    {
     "name": "stdout",
     "output_type": "stream",
     "text": [
      "stopping server ...\n",
      "was asked to stop the server\n",
      "deleted all files\n",
      "changing directory back to /Users/Anna/Documents/GitHub/a3B/Exam Project\n"
     ]
    }
   ],
   "source": [
    "nx.set_node_attributes(G, partition, 'group')\n",
    "\n",
    "visualize(G)"
   ]
  },
  {
   "cell_type": "markdown",
   "metadata": {},
   "source": [
    "### Political Party Communities"
   ]
  },
  {
   "cell_type": "code",
   "execution_count": 36,
   "metadata": {},
   "outputs": [
    {
     "data": {
      "text/plain": [
       "133"
      ]
     },
     "execution_count": 36,
     "metadata": {},
     "output_type": "execute_result"
    }
   ],
   "source": [
    "parti_group = dict(zip(info_rt.User_Name, info_rt.Parti_farve))\n",
    "len(parti_group)"
   ]
  },
  {
   "cell_type": "code",
   "execution_count": 37,
   "metadata": {},
   "outputs": [
    {
     "name": "stdout",
     "output_type": "stream",
     "text": [
      "changing directory to /Users/Anna/.netwulf\n",
      "starting server here ... /Users/Anna/.netwulf\n"
     ]
    },
    {
     "name": "stderr",
     "output_type": "stream",
     "text": [
      "127.0.0.1 - - [22/May/2019 18:37:16] \"GET /?data=tmp_16ae0676f32.json&config=config_tmp_16ae0676f32.json HTTP/1.1\" 200 -\n",
      "127.0.0.1 - - [22/May/2019 18:37:16] \"GET /config_tmp_16ae0676f32.json HTTP/1.1\" 200 -\n",
      "127.0.0.1 - - [22/May/2019 18:37:17] \"GET /tmp_16ae0676f32.json HTTP/1.1\" 200 -\n",
      "127.0.0.1 - - [22/May/2019 18:37:17] code 404, message File not found\n",
      "127.0.0.1 - - [22/May/2019 18:37:17] \"GET /favicon.ico HTTP/1.1\" 404 -\n"
     ]
    },
    {
     "name": "stdout",
     "output_type": "stream",
     "text": [
      "stopping server ...\n",
      "was asked to stop the server\n",
      "deleted all files\n",
      "changing directory back to /Users/Anna/Documents/GitHub/a3B/Exam Project\n"
     ]
    }
   ],
   "source": [
    "nx.set_node_attributes(G, parti_group, 'group')\n",
    "\n",
    "config = visualize(G)"
   ]
  },
  {
   "cell_type": "markdown",
   "metadata": {},
   "source": [
    "### Degree Distribution"
   ]
  },
  {
   "cell_type": "code",
   "execution_count": 38,
   "metadata": {},
   "outputs": [
    {
     "data": {
      "text/plain": [
       "Text(0.5,0,'Degree')"
      ]
     },
     "execution_count": 38,
     "metadata": {},
     "output_type": "execute_result"
    },
    {
     "data": {
      "image/png": "[encoded data removed]",
      "text/plain": [
       "<Figure size 576x288 with 1 Axes>"
      ]
     },
     "metadata": {},
     "output_type": "display_data"
    }
   ],
   "source": [
    "degree_sequence = sorted([d for n, d in G.degree()], reverse=True)\n",
    "degree_count = collections.Counter(degree_sequence)\n",
    "deg, cnt = zip(*degree_count.items())\n",
    "\n",
    "figure(figsize=(8,4))\n",
    "plt.bar(deg, cnt, width=0.80, color=('#8AA2BE'))\n",
    "#plt.title('Degree Histrogram')\n",
    "plt.ylabel('Frequency')\n",
    "plt.xlabel('Degree')"
   ]
  },
  {
   "cell_type": "markdown",
   "metadata": {},
   "source": [
    "### Centrality"
   ]
  },
  {
   "cell_type": "code",
   "execution_count": 39,
   "metadata": {},
   "outputs": [],
   "source": [
    "centrality = nx.betweenness_centrality(G, weight='weight')\n",
    "centrality = pd.DataFrame.from_dict(centrality, orient='index')\n",
    "top_10 = centrality.sort_values(by=[0], ascending=False).head(10)\n",
    "top_10_list = top_10.index.tolist()"
   ]
  },
  {
   "cell_type": "code",
   "execution_count": 40,
   "metadata": {},
   "outputs": [],
   "source": [
    "info_10 = pd.DataFrame(info_rt.User_Name)\n",
    "info_10['Color'] = 'grey'\n",
    "\n",
    "#info_10.loc[info_10['User_Name'] == 'pia_kjaersgaard', 'Color'] = 'red'\n",
    "\n",
    "for i in range(len(top_10_list)):\n",
    "    info_10.loc[info_10['User_Name'] == top_10_list[i], 'Color'] = '#b23b3e'"
   ]
  },
  {
   "cell_type": "code",
   "execution_count": 41,
   "metadata": {},
   "outputs": [
    {
     "name": "stdout",
     "output_type": "stream",
     "text": [
      "changing directory to /Users/Anna/.netwulf\n",
      "starting server here ... /Users/Anna/.netwulf\n"
     ]
    },
    {
     "name": "stderr",
     "output_type": "stream",
     "text": [
      "127.0.0.1 - - [22/May/2019 18:37:30] \"GET /?data=tmp_16ae067a603.json&config=config_tmp_16ae067a603.json HTTP/1.1\" 200 -\n",
      "127.0.0.1 - - [22/May/2019 18:37:30] \"GET /config_tmp_16ae067a603.json HTTP/1.1\" 200 -\n",
      "127.0.0.1 - - [22/May/2019 18:37:31] \"GET /tmp_16ae067a603.json HTTP/1.1\" 200 -\n",
      "127.0.0.1 - - [22/May/2019 18:37:31] code 404, message File not found\n",
      "127.0.0.1 - - [22/May/2019 18:37:31] \"GET /favicon.ico HTTP/1.1\" 404 -\n"
     ]
    },
    {
     "name": "stdout",
     "output_type": "stream",
     "text": [
      "stopping server ...\n",
      "was asked to stop the server\n",
      "deleted all files\n",
      "changing directory back to /Users/Anna/Documents/GitHub/a3B/Exam Project\n"
     ]
    }
   ],
   "source": [
    "top_group = dict(zip(info_10.User_Name, info_10.Color))\n",
    "\n",
    "nx.set_node_attributes(G, top_group, 'group')\n",
    "config = visualize(G)"
   ]
  },
  {
   "cell_type": "markdown",
   "metadata": {},
   "source": [
    "### Clustering Coefficients"
   ]
  },
  {
   "cell_type": "code",
   "execution_count": 42,
   "metadata": {},
   "outputs": [],
   "source": [
    "clusters_ = nx.clustering(G)"
   ]
  },
  {
   "cell_type": "code",
   "execution_count": 43,
   "metadata": {},
   "outputs": [
    {
     "data": {
      "text/plain": [
       "Text(0,0.5,'Frequency')"
      ]
     },
     "execution_count": 43,
     "metadata": {},
     "output_type": "execute_result"
    },
    {
     "data": {
      "image/png": "[encoded data removed]",
      "text/plain": [
       "<Figure size 576x288 with 1 Axes>"
      ]
     },
     "metadata": {},
     "output_type": "display_data"
    }
   ],
   "source": [
    "figure(figsize=(8,4))\n",
    "bins=np.logspace(np.log10(0.01),np.log10(1.01), 100)\n",
    "plt.hist(clusters_.values(), bins, color=('#8AA2BE'))\n",
    "plt.xlabel('Clustering Coefficient')\n",
    "plt.ylabel('Frequency')"
   ]
  },
  {
   "cell_type": "code",
   "execution_count": 44,
   "metadata": {},
   "outputs": [
    {
     "data": {
      "text/plain": [
       "0.5047129330282245"
      ]
     },
     "execution_count": 44,
     "metadata": {},
     "output_type": "execute_result"
    }
   ],
   "source": [
    "avg_cluster = nx.average_clustering(G)\n",
    "avg_cluster"
   ]
  },
  {
   "cell_type": "markdown",
   "metadata": {},
   "source": [
    "## ReTweet Network with annotations"
   ]
  },
  {
   "cell_type": "code",
   "execution_count": 45,
   "metadata": {},
   "outputs": [],
   "source": [
    "#read data\n",
    "df = pd.read_csv('data.csv')\n",
    "df['User_Name']=df['User_Name'].str.lower()    \n",
    "df['Link_1']=df['Link_1'].str.lower()    \n",
    "df['Message']=df['Message'].str.lower()   \n",
    "\n",
    "\n",
    "# We only need retweets (WithContent)\n",
    "df_B=df[(df.Retweet_WC == 1)]\n",
    "#df_B['User_Name']=df_B['User_Name'].str.lower()"
   ]
  },
  {
   "cell_type": "markdown",
   "metadata": {},
   "source": [
    "### Prepare data for Network Analysis"
   ]
  },
  {
   "cell_type": "code",
   "execution_count": 46,
   "metadata": {
    "scrolled": true
   },
   "outputs": [
    {
     "name": "stderr",
     "output_type": "stream",
     "text": [
      "/Users/Anna/anaconda3/lib/python3.6/site-packages/ipykernel_launcher.py:6: SettingWithCopyWarning: \n",
      "A value is trying to be set on a copy of a slice from a DataFrame.\n",
      "Try using .loc[row_indexer,col_indexer] = value instead\n",
      "\n",
      "See the caveats in the documentation: http://pandas.pydata.org/pandas-docs/stable/indexing.html#indexing-view-versus-copy\n",
      "  \n"
     ]
    }
   ],
   "source": [
    "# Use regex to find account retweetet from\n",
    "def rt_account(temp):\n",
    "    temp = re.findall(r'https://twitter.com/(\\w+)', temp)\n",
    "    return temp\n",
    "rt_account('https://twitter.com/fb_feriehuse/status/111')\n",
    "df_B['retweet_from'] = df_B.Link_1.apply(lambda x: rt_account(x)[0]).str.lower()\n",
    "\n"
   ]
  },
  {
   "cell_type": "code",
   "execution_count": 47,
   "metadata": {},
   "outputs": [
    {
     "data": {
      "text/html": [
       "<div>\n",
       "<style scoped>\n",
       "    .dataframe tbody tr th:only-of-type {\n",
       "        vertical-align: middle;\n",
       "    }\n",
       "\n",
       "    .dataframe tbody tr th {\n",
       "        vertical-align: top;\n",
       "    }\n",
       "\n",
       "    .dataframe thead th {\n",
       "        text-align: right;\n",
       "    }\n",
       "</style>\n",
       "<table border=\"1\" class=\"dataframe\">\n",
       "  <thead>\n",
       "    <tr style=\"text-align: right;\">\n",
       "      <th></th>\n",
       "      <th>0</th>\n",
       "      <th>Politicians</th>\n",
       "      <th>rt_account</th>\n",
       "    </tr>\n",
       "  </thead>\n",
       "  <tbody>\n",
       "    <tr>\n",
       "      <th>0</th>\n",
       "      <td>hans_kr_skibby</td>\n",
       "      <td>1</td>\n",
       "      <td>hans_kr_skibby</td>\n",
       "    </tr>\n",
       "    <tr>\n",
       "      <th>1</th>\n",
       "      <td>metteabildgaard</td>\n",
       "      <td>1</td>\n",
       "      <td>metteabildgaard</td>\n",
       "    </tr>\n",
       "    <tr>\n",
       "      <th>2</th>\n",
       "      <td>liberalalliance</td>\n",
       "      <td>1</td>\n",
       "      <td>liberalalliance</td>\n",
       "    </tr>\n",
       "    <tr>\n",
       "      <th>3</th>\n",
       "      <td>uffeelbaek</td>\n",
       "      <td>1</td>\n",
       "      <td>uffeelbaek</td>\n",
       "    </tr>\n",
       "    <tr>\n",
       "      <th>4</th>\n",
       "      <td>anehalsboe</td>\n",
       "      <td>1</td>\n",
       "      <td>anehalsboe</td>\n",
       "    </tr>\n",
       "  </tbody>\n",
       "</table>\n",
       "</div>"
      ],
      "text/plain": [
       "                 0  Politicians       rt_account\n",
       "0   hans_kr_skibby            1   hans_kr_skibby\n",
       "1  metteabildgaard            1  metteabildgaard\n",
       "2  liberalalliance            1  liberalalliance\n",
       "3       uffeelbaek            1       uffeelbaek\n",
       "4       anehalsboe            1       anehalsboe"
      ]
     },
     "execution_count": 47,
     "metadata": {},
     "output_type": "execute_result"
    }
   ],
   "source": [
    "#List with unique politicians (Of all tweets)\n",
    "politiciansB=pd.DataFrame(df.User_Name.unique())\n",
    "\n",
    "\n",
    "# # Add dummy indicating if the profile retweetet from is a poliician\n",
    "politiciansB['Politicians'] = 1\n",
    "politiciansB['rt_account']=politiciansB[0].str.lower()\n",
    "\n",
    "politiciansB.head()"
   ]
  },
  {
   "cell_type": "code",
   "execution_count": 48,
   "metadata": {},
   "outputs": [],
   "source": [
    "#Adds dummy to data set\n",
    "df_B = df_B.merge(politiciansB, how='left' ,left_on= 'retweet_from', right_on ='rt_account')\n",
    "\n",
    "# We only want tweets, where the  the profile retweetet from is a politicians\n",
    "df_B=df_B[(df_B.Politicians == 1)]\n",
    "# (408, 29) Comments from politicians - Before: (1685, 26)"
   ]
  },
  {
   "cell_type": "code",
   "execution_count": 49,
   "metadata": {},
   "outputs": [],
   "source": [
    "#Keep only relevant columns\n",
    "df_B = df_B[['User_Name','retweet_from', 'Blok', 'Parti', 'Parti_tal','Parti_farve']]"
   ]
  },
  {
   "cell_type": "code",
   "execution_count": 50,
   "metadata": {},
   "outputs": [
    {
     "name": "stderr",
     "output_type": "stream",
     "text": [
      "/Users/Anna/anaconda3/lib/python3.6/site-packages/pandas/core/frame.py:6201: FutureWarning: Sorting because non-concatenation axis is not aligned. A future version\n",
      "of pandas will change to not sort by default.\n",
      "\n",
      "To accept the future behavior, pass 'sort=True'.\n",
      "\n",
      "To retain the current behavior and silence the warning, pass sort=False\n",
      "\n",
      "  sort=sort)\n"
     ]
    }
   ],
   "source": [
    "#Get unique names from the column with those re-tweeted\n",
    "tweeters_B = df_B[['User_Name', 'Blok', 'Parti', 'Parti_tal', 'Parti_farve']].drop_duplicates()\n",
    "\n",
    "#Get unique names from the column with those who has been re-tweeted\n",
    "re_uniques_B = df_B[['retweet_from']].drop_duplicates()\n",
    "\n",
    "\n",
    "#df_unique = df[['User_Name', 'Blok', 'Parti', 'Parti_tal', 'Parti_farve']].drop_duplicates()\n",
    "#add their information from the full sampled data\n",
    "re_tweeted_B = re_uniques_B.merge(df[['User_Name', 'Blok', 'Parti', 'Parti_tal', 'Parti_farve']], how='left' ,left_on= 'retweet_from', right_on ='User_Name')\n",
    "\n",
    "\n",
    "info_rt_B = tweeters_B.append(re_tweeted_B)\n",
    "info_rt_B = info_rt_B[['User_Name', 'Blok', 'Parti', 'Parti_tal', 'Parti_farve']].drop_duplicates()"
   ]
  },
  {
   "cell_type": "markdown",
   "metadata": {},
   "source": [
    "### NODES"
   ]
  },
  {
   "cell_type": "code",
   "execution_count": 51,
   "metadata": {},
   "outputs": [
    {
     "name": "stdout",
     "output_type": "stream",
     "text": [
      "(91, 4)\n"
     ]
    },
    {
     "data": {
      "text/plain": [
       "pandas.core.frame.DataFrame"
      ]
     },
     "execution_count": 51,
     "metadata": {},
     "output_type": "execute_result"
    }
   ],
   "source": [
    "#List with unique politicians (Of all retweets, retweetet from a politician)\n",
    "nodes_B=df_B[['User_Name', 'Blok', 'Parti', 'Parti_tal']].drop_duplicates()\n",
    "print(nodes_B.shape)\n",
    "type(nodes_B)"
   ]
  },
  {
   "cell_type": "markdown",
   "metadata": {},
   "source": [
    "### EDGES"
   ]
  },
  {
   "cell_type": "code",
   "execution_count": 52,
   "metadata": {},
   "outputs": [
    {
     "data": {
      "text/html": [
       "<div>\n",
       "<style scoped>\n",
       "    .dataframe tbody tr th:only-of-type {\n",
       "        vertical-align: middle;\n",
       "    }\n",
       "\n",
       "    .dataframe tbody tr th {\n",
       "        vertical-align: top;\n",
       "    }\n",
       "\n",
       "    .dataframe thead th {\n",
       "        text-align: right;\n",
       "    }\n",
       "</style>\n",
       "<table border=\"1\" class=\"dataframe\">\n",
       "  <thead>\n",
       "    <tr style=\"text-align: right;\">\n",
       "      <th></th>\n",
       "      <th>User_Name</th>\n",
       "      <th>retweet_from</th>\n",
       "      <th>weight</th>\n",
       "    </tr>\n",
       "  </thead>\n",
       "  <tbody>\n",
       "    <tr>\n",
       "      <th>0</th>\n",
       "      <td>adsboladsbl</td>\n",
       "      <td>jakobsoelvhoej</td>\n",
       "      <td>1</td>\n",
       "    </tr>\n",
       "    <tr>\n",
       "      <th>1</th>\n",
       "      <td>adsboladsbl</td>\n",
       "      <td>jthulesen</td>\n",
       "      <td>1</td>\n",
       "    </tr>\n",
       "    <tr>\n",
       "      <th>2</th>\n",
       "      <td>adsboladsbl</td>\n",
       "      <td>kristensenberth</td>\n",
       "      <td>1</td>\n",
       "    </tr>\n",
       "    <tr>\n",
       "      <th>3</th>\n",
       "      <td>adsboladsbl</td>\n",
       "      <td>pia_kjaersgaard</td>\n",
       "      <td>2</td>\n",
       "    </tr>\n",
       "    <tr>\n",
       "      <th>4</th>\n",
       "      <td>anderssamuelsen</td>\n",
       "      <td>liberalalliance</td>\n",
       "      <td>1</td>\n",
       "    </tr>\n",
       "  </tbody>\n",
       "</table>\n",
       "</div>"
      ],
      "text/plain": [
       "         User_Name     retweet_from  weight\n",
       "0      adsboladsbl   jakobsoelvhoej       1\n",
       "1      adsboladsbl        jthulesen       1\n",
       "2      adsboladsbl  kristensenberth       1\n",
       "3      adsboladsbl  pia_kjaersgaard       2\n",
       "4  anderssamuelsen  liberalalliance       1"
      ]
     },
     "execution_count": 52,
     "metadata": {},
     "output_type": "execute_result"
    }
   ],
   "source": [
    "#Count number of unique combinations, in the 'weight' column.\n",
    "edges_B = df_B.groupby(['User_Name','retweet_from']).size().reset_index(name='weight')\n",
    "edges_B.head()"
   ]
  },
  {
   "cell_type": "markdown",
   "metadata": {},
   "source": [
    "### Create a NetworkX"
   ]
  },
  {
   "cell_type": "code",
   "execution_count": 65,
   "metadata": {},
   "outputs": [
    {
     "name": "stdout",
     "output_type": "stream",
     "text": [
      "Name: \n",
      "Type: Graph\n",
      "Number of nodes: 114\n",
      "Number of edges: 295\n",
      "Average degree:   5.1754\n"
     ]
    }
   ],
   "source": [
    "G_B = nx.from_pandas_edgelist(edges_B, 'User_Name', 'retweet_from', 'weight')\n",
    "\n",
    "print(nx.info(G_B))"
   ]
  },
  {
   "cell_type": "markdown",
   "metadata": {},
   "source": [
    "### Community Partition"
   ]
  },
  {
   "cell_type": "code",
   "execution_count": 54,
   "metadata": {},
   "outputs": [
    {
     "data": {
      "image/png": "[encoded data removed]",
      "text/plain": [
       "<Figure size 432x288 with 1 Axes>"
      ]
     },
     "metadata": {},
     "output_type": "display_data"
    }
   ],
   "source": [
    "partition_B = community.best_partition(G_B)\n",
    "communi_seq_B=partition_B.values()\n",
    "communi_count_B=collections.Counter(communi_seq_B)\n",
    "cu_B, cnt_B =zip(*communi_count_B.items())\n",
    "\n",
    "plt.bar(cu_B, cnt_B, width =0.35, color='g')\n",
    "plt.show()"
   ]
  },
  {
   "cell_type": "code",
   "execution_count": 55,
   "metadata": {},
   "outputs": [
    {
     "name": "stdout",
     "output_type": "stream",
     "text": [
      "changing directory to /Users/Anna/.netwulf\n",
      "starting server here ... /Users/Anna/.netwulf\n"
     ]
    },
    {
     "name": "stderr",
     "output_type": "stream",
     "text": [
      "127.0.0.1 - - [22/May/2019 18:38:12] \"GET /?data=tmp_16ae06848e7.json&config=config_tmp_16ae06848e7.json HTTP/1.1\" 200 -\n",
      "127.0.0.1 - - [22/May/2019 18:38:12] \"GET /config_tmp_16ae06848e7.json HTTP/1.1\" 200 -\n",
      "127.0.0.1 - - [22/May/2019 18:38:12] \"GET /tmp_16ae06848e7.json HTTP/1.1\" 200 -\n",
      "127.0.0.1 - - [22/May/2019 18:38:12] code 404, message File not found\n",
      "127.0.0.1 - - [22/May/2019 18:38:12] \"GET /favicon.ico HTTP/1.1\" 404 -\n"
     ]
    },
    {
     "name": "stdout",
     "output_type": "stream",
     "text": [
      "stopping server ...\n",
      "was asked to stop the server\n",
      "deleted all files\n",
      "changing directory back to /Users/Anna/Documents/GitHub/a3B/Exam Project\n"
     ]
    }
   ],
   "source": [
    "nx.set_node_attributes(G_B, partition_B, 'group')\n",
    "\n",
    "visualize(G_B)"
   ]
  },
  {
   "cell_type": "markdown",
   "metadata": {},
   "source": [
    "### Party Communities"
   ]
  },
  {
   "cell_type": "code",
   "execution_count": 56,
   "metadata": {},
   "outputs": [],
   "source": [
    "parti_group_B = dict(zip(info_rt_B.User_Name, info_rt_B.Parti_farve))"
   ]
  },
  {
   "cell_type": "code",
   "execution_count": 57,
   "metadata": {},
   "outputs": [
    {
     "name": "stdout",
     "output_type": "stream",
     "text": [
      "changing directory to /Users/Anna/.netwulf\n",
      "starting server here ... /Users/Anna/.netwulf\n"
     ]
    },
    {
     "name": "stderr",
     "output_type": "stream",
     "text": [
      "127.0.0.1 - - [22/May/2019 18:38:28] \"GET /?data=tmp_16ae06885ac.json&config=config_tmp_16ae06885ac.json HTTP/1.1\" 200 -\n",
      "127.0.0.1 - - [22/May/2019 18:38:28] \"GET /config_tmp_16ae06885ac.json HTTP/1.1\" 200 -\n",
      "127.0.0.1 - - [22/May/2019 18:38:28] \"GET /tmp_16ae06885ac.json HTTP/1.1\" 200 -\n",
      "127.0.0.1 - - [22/May/2019 18:38:28] code 404, message File not found\n",
      "127.0.0.1 - - [22/May/2019 18:38:28] \"GET /favicon.ico HTTP/1.1\" 404 -\n"
     ]
    },
    {
     "name": "stdout",
     "output_type": "stream",
     "text": [
      "stopping server ...\n",
      "was asked to stop the server\n",
      "deleted all files\n",
      "changing directory back to /Users/Anna/Documents/GitHub/a3B/Exam Project\n"
     ]
    }
   ],
   "source": [
    "nx.set_node_attributes(G_B, parti_group_B, 'group')\n",
    "visualize(G_B)\n"
   ]
  },
  {
   "cell_type": "markdown",
   "metadata": {},
   "source": [
    "### Degree Distribution"
   ]
  },
  {
   "cell_type": "code",
   "execution_count": 64,
   "metadata": {},
   "outputs": [
    {
     "data": {
      "text/plain": [
       "Text(0.5,0,'Degree')"
      ]
     },
     "execution_count": 64,
     "metadata": {},
     "output_type": "execute_result"
    },
    {
     "data": {
      "image/png": "[encoded data removed]",
      "text/plain": [
       "<Figure size 576x288 with 1 Axes>"
      ]
     },
     "metadata": {},
     "output_type": "display_data"
    }
   ],
   "source": [
    "figure(figsize=(8,4))\n",
    "degree_sequence_B = sorted([d for n, d in G_B.degree()], reverse=True)\n",
    "degree_count_B = collections.Counter(degree_sequence_B)\n",
    "deg_B, cnt_B = zip(*degree_count_B.items())\n",
    "\n",
    "plt.bar(deg_B, cnt_B, width=0.80, color=('#8AA2BE'))\n",
    "plt.ylabel('Frequency')\n",
    "plt.xlabel('Degree')"
   ]
  },
  {
   "cell_type": "markdown",
   "metadata": {},
   "source": [
    "### Clustering Coefficient"
   ]
  },
  {
   "cell_type": "code",
   "execution_count": 68,
   "metadata": {},
   "outputs": [],
   "source": [
    "clusters_B = nx.clustering(G_B)"
   ]
  },
  {
   "cell_type": "code",
   "execution_count": 69,
   "metadata": {},
   "outputs": [
    {
     "data": {
      "text/plain": [
       "0.1193643811755267"
      ]
     },
     "execution_count": 69,
     "metadata": {},
     "output_type": "execute_result"
    }
   ],
   "source": [
    "avg_cluster_B = nx.average_clustering(G_B)\n",
    "avg_cluster_B"
   ]
  },
  {
   "cell_type": "code",
   "execution_count": 70,
   "metadata": {},
   "outputs": [
    {
     "data": {
      "text/plain": [
       "Text(0,0.5,'Frequency')"
      ]
     },
     "execution_count": 70,
     "metadata": {},
     "output_type": "execute_result"
    },
    {
     "data": {
      "image/png": "[encoded data removed]",
      "text/plain": [
       "<Figure size 576x288 with 1 Axes>"
      ]
     },
     "metadata": {},
     "output_type": "display_data"
    }
   ],
   "source": [
    "figure(figsize=(8,4))\n",
    "bins=np.logspace(np.log10(0.01),np.log10(1.01), 30)\n",
    "plt.hist(clusters_B.values(), bins, color=('#8AA2BE'))\n",
    "\n",
    "plt.xlabel('Clustering Coefficient')\n",
    "plt.ylabel('Frequency')"
   ]
  },
  {
   "cell_type": "markdown",
   "metadata": {},
   "source": [
    "### Centraliy"
   ]
  },
  {
   "cell_type": "code",
   "execution_count": 61,
   "metadata": {},
   "outputs": [
    {
     "name": "stdout",
     "output_type": "stream",
     "text": [
      "changing directory to /Users/Anna/.netwulf\n",
      "starting server here ... /Users/Anna/.netwulf\n"
     ]
    },
    {
     "name": "stderr",
     "output_type": "stream",
     "text": [
      "127.0.0.1 - - [22/May/2019 18:38:44] \"GET /?data=tmp_16ae068c413.json&config=config_tmp_16ae068c413.json HTTP/1.1\" 200 -\n",
      "127.0.0.1 - - [22/May/2019 18:38:44] \"GET /config_tmp_16ae068c413.json HTTP/1.1\" 200 -\n",
      "127.0.0.1 - - [22/May/2019 18:38:44] \"GET /tmp_16ae068c413.json HTTP/1.1\" 200 -\n",
      "127.0.0.1 - - [22/May/2019 18:38:44] code 404, message File not found\n",
      "127.0.0.1 - - [22/May/2019 18:38:44] \"GET /favicon.ico HTTP/1.1\" 404 -\n"
     ]
    },
    {
     "name": "stdout",
     "output_type": "stream",
     "text": [
      "stopping server ...\n",
      "was asked to stop the server\n",
      "deleted all files\n",
      "changing directory back to /Users/Anna/Documents/GitHub/a3B/Exam Project\n"
     ]
    }
   ],
   "source": [
    "### Centrality\n",
    "\n",
    "centrality_B = nx.betweenness_centrality(G_B, weight='weight')\n",
    "centrality_B = pd.DataFrame.from_dict(centrality_B, orient='index')\n",
    "top_10_B = centrality_B.sort_values(by=[0], ascending=False).head(10)\n",
    "top_10_list_B = top_10_B.index.tolist()\n",
    "\n",
    "info_10_B = pd.DataFrame(info_rt_B.User_Name)\n",
    "info_10_B['Color'] = 'grey'\n",
    "\n",
    "#info_10.loc[info_10['User_Name'] == 'pia_kjaersgaard', 'Color'] = 'red'\n",
    "\n",
    "for i in range(len(top_10_list_B)):\n",
    "    info_10_B.loc[info_10_B['User_Name'] == top_10_list_B[i], 'Color'] = '#b23b3e'\n",
    "\n",
    "top_group_B = dict(zip(info_10_B.User_Name, info_10_B.Color))"
   ]
  },
  {
   "cell_type": "code",
   "execution_count": null,
   "metadata": {},
   "outputs": [],
   "source": [
    "nx.set_node_attributes(G_B, top_group_B, 'group')\n",
    "visualize(G_B)"
   ]
  },
  {
   "cell_type": "markdown",
   "metadata": {},
   "source": [
    "# 6_BigramsNetwork"
   ]
  },
  {
   "cell_type": "code",
   "execution_count": 2,
   "metadata": {
    "scrolled": false
   },
   "outputs": [],
   "source": [
    "#indlæs data\n",
    "df = pd.read_csv('translated.csv', index_col=[0])"
   ]
  },
  {
   "cell_type": "code",
   "execution_count": 3,
   "metadata": {
    "scrolled": true
   },
   "outputs": [],
   "source": [
    "# lav om på engelsk\n",
    "# Lowercase, fjerner tegn, tal, og opdeler alle ord.\n",
    "\n",
    "def step3(temp):\n",
    "    temp = temp.lower()\n",
    "    temp = re.sub(r'[^\\w\\s]','', temp)\n",
    "    temp = re.sub('__rt__', '', temp)\n",
    "    temp = re.sub('__profile__', '', temp)\n",
    "    temp = re.sub('__time__', '', temp)\n",
    "    temp = re.sub('__link__', '', temp)\n",
    "    temp = re.sub('__ending__', '', temp)\n",
    "    temp = re.sub('__emoji__', '', temp)\n",
    "    temp = re.sub('__email__', '', temp)\n",
    "    temp = re.sub(r'\\d', \"\", temp)\n",
    "    temp = temp.split()\n",
    "    return temp\n",
    "\n",
    "\n",
    "df['lang_clean'] = df.oversat.apply(lambda x: step3(x))"
   ]
  },
  {
   "cell_type": "code",
   "execution_count": 4,
   "metadata": {},
   "outputs": [
    {
     "name": "stdout",
     "output_type": "stream",
     "text": [
      "__RT__ I look forward to celebrating the Danish Maritimes 100 year anniversary tomorrow at the National Museum. We need to hear __profile__ __profile__\n",
      "['i', 'look', 'forward', 'to', 'celebrating', 'the', 'danish', 'maritimes', 'year', 'anniversary', 'tomorrow', 'at', 'the', 'national', 'museum', 'we', 'need', 'to', 'hear']\n"
     ]
    }
   ],
   "source": [
    "print(df.oversat.iloc[8])\n",
    "print(df.lang_clean.iloc[8])"
   ]
  },
  {
   "cell_type": "code",
   "execution_count": 5,
   "metadata": {},
   "outputs": [],
   "source": [
    "import nltk\n",
    "from nltk.corpus import stopwords\n",
    "from stop_words import get_stop_words\n",
    "\n",
    "stop_words = list(stopwords.words('english'))    #About 150 stopwords\n",
    "nltk_words = list(get_stop_words('en'))         #About 900 stopwords\n",
    "stop_words.extend(nltk_words)\n",
    "\n",
    "df['lang_reduced'] = df.lang_clean.apply(lambda x: [item for item in x if item not in stop_words])"
   ]
  },
  {
   "cell_type": "code",
   "execution_count": 7,
   "metadata": {},
   "outputs": [],
   "source": [
    "df[['Message', 'lang_reduced']].to_csv('en_short_text.csv', index=False, sep = ',')"
   ]
  },
  {
   "cell_type": "code",
   "execution_count": 8,
   "metadata": {},
   "outputs": [],
   "source": [
    "terms_bigrams =[list(bigrams(tweet)) for tweet in df.lang_reduced]"
   ]
  },
  {
   "cell_type": "code",
   "execution_count": 10,
   "metadata": {},
   "outputs": [],
   "source": [
    "bigram = list(itertools.chain(*terms_bigrams))\n",
    "\n",
    "bigram_count = collections.Counter(bigram)"
   ]
  },
  {
   "cell_type": "code",
   "execution_count": 11,
   "metadata": {},
   "outputs": [],
   "source": [
    "bigram_df =pd.DataFrame(bigram_count.most_common(170),columns=['bigram', 'count'])"
   ]
  },
  {
   "cell_type": "code",
   "execution_count": 12,
   "metadata": {},
   "outputs": [],
   "source": [
    "d = bigram_df.set_index('bigram').T.to_dict('records')"
   ]
  },
  {
   "cell_type": "code",
   "execution_count": 13,
   "metadata": {},
   "outputs": [
    {
     "data": {
      "text/plain": [
       "170"
      ]
     },
     "execution_count": 13,
     "metadata": {},
     "output_type": "execute_result"
    }
   ],
   "source": [
    "from_ = []\n",
    "to_= []\n",
    "w = []\n",
    "for k, v in d[0].items():\n",
    "    from_.append(k[0])\n",
    "    to_.append(k[1])\n",
    "    w.append(v)\n",
    "\n",
    "len(w)"
   ]
  },
  {
   "cell_type": "code",
   "execution_count": 14,
   "metadata": {},
   "outputs": [],
   "source": [
    "df=pd.DataFrame(from_,columns=['from'])\n",
    "df['to'] = pd.DataFrame(to_,index=df.index)\n",
    "df['weight'] = pd.DataFrame(w,index=df.index)\n",
    "#edges['color'] = 'grey'"
   ]
  },
  {
   "cell_type": "code",
   "execution_count": 15,
   "metadata": {},
   "outputs": [],
   "source": [
    "G_1 = nx.from_pandas_edgelist(df, 'from', 'to', 'weight')"
   ]
  },
  {
   "cell_type": "code",
   "execution_count": 16,
   "metadata": {},
   "outputs": [],
   "source": [
    "partition = community.best_partition(G_1)"
   ]
  },
  {
   "cell_type": "code",
   "execution_count": 17,
   "metadata": {},
   "outputs": [],
   "source": [
    "nx.set_node_attributes(G_1, partition, 'group')"
   ]
  },
  {
   "cell_type": "code",
   "execution_count": 18,
   "metadata": {
    "scrolled": true
   },
   "outputs": [
    {
     "name": "stdout",
     "output_type": "stream",
     "text": [
      "changing directory to /Users/Anna/.netwulf\n",
      "starting server here ... /Users/Anna/.netwulf\n"
     ]
    },
    {
     "name": "stderr",
     "output_type": "stream",
     "text": [
      "127.0.0.1 - - [23/May/2019 23:14:04] \"GET /?data=tmp_16ae68b3483.json&config=config_tmp_16ae68b3483.json HTTP/1.1\" 200 -\n",
      "127.0.0.1 - - [23/May/2019 23:14:04] \"GET /libs/lodash.js HTTP/1.1\" 200 -\n",
      "127.0.0.1 - - [23/May/2019 23:14:04] \"GET /config_tmp_16ae68b3483.json HTTP/1.1\" 200 -\n",
      "127.0.0.1 - - [23/May/2019 23:14:04] \"GET /tmp_16ae68b3483.json HTTP/1.1\" 200 -\n",
      "127.0.0.1 - - [23/May/2019 23:14:05] code 404, message File not found\n",
      "127.0.0.1 - - [23/May/2019 23:14:05] \"GET /favicon.ico HTTP/1.1\" 404 -\n"
     ]
    },
    {
     "name": "stdout",
     "output_type": "stream",
     "text": [
      "stopping server ...\n",
      "was asked to stop the server\n",
      "deleted all files\n",
      "changing directory back to /Users/Anna/Documents/GitHub/a3B/Exam Project\n"
     ]
    }
   ],
   "source": [
    "from netwulf import visualize\n",
    "visualize(G_1)"
   ]
  },
  {
   "cell_type": "markdown",
   "metadata": {},
   "source": [
    "# 7_Sentiment"
   ]
  },
  {
   "cell_type": "code",
   "execution_count": 5,
   "metadata": {},
   "outputs": [],
   "source": [
    "# reading translated.csv\n",
    "df = pd.read_csv('translated.csv', index_col=[0])\n",
    "#df"
   ]
  },
  {
   "cell_type": "code",
   "execution_count": 6,
   "metadata": {},
   "outputs": [],
   "source": [
    "# using Vader to create a sentiment score for every tweet\n",
    "analyser = SentimentIntensityAnalyzer()\n",
    "def sentiment_score(temp):\n",
    "    temp = analyser.polarity_scores(temp)\n",
    "    return temp\n",
    "df['sentiment_score_neg'] = df.oversat.apply(lambda x: sentiment_score(x)['neg'])\n",
    "df['sentiment_score_neu'] = df.oversat.apply(lambda x: sentiment_score(x)['neu'])\n",
    "df['sentiment_score_pos'] = df.oversat.apply(lambda x: sentiment_score(x)['pos'])\n",
    "df['sentiment_score_compound'] = df.oversat.apply(lambda x: sentiment_score(x)['compound'])\n",
    "#Sentiment_score(\"love\")\n",
    "#df"
   ]
  },
  {
   "cell_type": "code",
   "execution_count": 7,
   "metadata": {},
   "outputs": [],
   "source": [
    "# fixer fejl med \"blue \"\n",
    "df.loc[df['Blok'] == 'blue ', 'Blok'] = 'blue'"
   ]
  },
  {
   "cell_type": "code",
   "execution_count": 8,
   "metadata": {},
   "outputs": [],
   "source": [
    "# saving sentimented.csv\n",
    "#df.to_csv('sentimented.csv')\n",
    "\n",
    "# reading translated.csv\n",
    "df = pd.read_csv('sentimented.csv', index_col=[0])\n",
    "df.oversat = df.oversat.str.lower()"
   ]
  },
  {
   "cell_type": "markdown",
   "metadata": {},
   "source": [
    "## plots"
   ]
  },
  {
   "cell_type": "code",
   "execution_count": 138,
   "metadata": {
    "collapsed": true
   },
   "outputs": [
    {
     "name": "stdout",
     "output_type": "stream",
     "text": [
      "0.19654655172413796\n"
     ]
    },
    {
     "data": {
      "image/png": "[encoded data removed]",
      "text/plain": [
       "<Figure size 1152x576 with 1 Axes>"
      ]
     },
     "metadata": {
      "needs_background": "light"
     },
     "output_type": "display_data"
    }
   ],
   "source": [
    "# climate bitches\n",
    "#df_climate = df.oversat.str.contains('climate')\n",
    "#df_climate = df[df_climate == True]\n",
    "#df_climate = df_climate.sentiment_score_compound\n",
    "#print(df_climate.mean())\n",
    "#fig, ax = plt.subplots(figsize=(16,8))\n",
    "#df_climate.hist(bins=np.arange(-1,1,1/10),\n",
    "#             ax=ax,\n",
    "#             color=\"purple\")\n",
    "#plt.title(\"Sentiments from Tweets on 'climate'\")\n",
    "#plt.show()"
   ]
  },
  {
   "cell_type": "code",
   "execution_count": 123,
   "metadata": {},
   "outputs": [],
   "source": [
    "df_red = df[df.Blok == 'red']\n",
    "df_blue = df[df.Blok == 'blue']"
   ]
  },
  {
   "cell_type": "code",
   "execution_count": 155,
   "metadata": {},
   "outputs": [
    {
     "name": "stdout",
     "output_type": "stream",
     "text": [
      "0.16648605817452358\n",
      "997\n"
     ]
    },
    {
     "data": {
      "image/png": "[encoded data removed]",
      "text/plain": [
       "<Figure size 576x288 with 1 Axes>"
      ]
     },
     "metadata": {
      "needs_background": "light"
     },
     "output_type": "display_data"
    },
    {
     "name": "stdout",
     "output_type": "stream",
     "text": [
      "0.30396702508960577\n",
      "279\n"
     ]
    },
    {
     "data": {
      "image/png": "[encoded data removed]",
      "text/plain": [
       "<Figure size 576x288 with 1 Axes>"
      ]
     },
     "metadata": {
      "needs_background": "light"
     },
     "output_type": "display_data"
    }
   ],
   "source": [
    "# climate red\n",
    "df_plot = df_red.oversat.str.contains('climate')\n",
    "df_plot = df_red[df_plot == True]\n",
    "df_plot = df_plot.sentiment_score_compound\n",
    "print(df_plot.mean())\n",
    "print(df_plot.count())\n",
    "fig, ax = plt.subplots(figsize=(8,4))\n",
    "df_plot.hist(bins=np.arange(-1,1,1/10),\n",
    "             ax=ax,\n",
    "             color=\"#A82417\")\n",
    "plt.xlabel('Score')\n",
    "plt.ylabel('Frequency')\n",
    "ax.grid(False)\n",
    "plt.show()\n",
    "\n",
    "# climate blue\n",
    "df_plot = df_blue.oversat.str.contains('climate')\n",
    "df_plot = df_blue[df_plot == True]\n",
    "df_plot = df_plot.sentiment_score_compound\n",
    "print(df_plot.mean())\n",
    "print(df_plot.count())\n",
    "fig, ax = plt.subplots(figsize=(8,4))\n",
    "df_plot.hist(bins=np.arange(-1,1,1/10),\n",
    "             ax=ax,\n",
    "             color=\"#265A9D\")\n",
    "plt.xlabel('Score')\n",
    "plt.ylabel('Frequency')\n",
    "ax.grid(False)\n",
    "plt.show()"
   ]
  },
  {
   "cell_type": "code",
   "execution_count": 156,
   "metadata": {},
   "outputs": [
    {
     "name": "stdout",
     "output_type": "stream",
     "text": [
      "-0.01795857142857144\n",
      "70\n"
     ]
    },
    {
     "data": {
      "image/png": "[encoded data removed]",
      "text/plain": [
       "<Figure size 576x288 with 1 Axes>"
      ]
     },
     "metadata": {
      "needs_background": "light"
     },
     "output_type": "display_data"
    },
    {
     "name": "stdout",
     "output_type": "stream",
     "text": [
      "-0.22208823529411761\n",
      "68\n"
     ]
    },
    {
     "data": {
      "image/png": "[encoded data removed]",
      "text/plain": [
       "<Figure size 576x288 with 1 Axes>"
      ]
     },
     "metadata": {
      "needs_background": "light"
     },
     "output_type": "display_data"
    }
   ],
   "source": [
    "# paludan red\n",
    "df_plot = df_red.oversat.str.contains('paludan')\n",
    "df_plot = df_red[df_plot == True]\n",
    "df_plot = df_plot.sentiment_score_compound\n",
    "print(df_plot.mean())\n",
    "print(df_plot.count())\n",
    "fig, ax = plt.subplots(figsize=(8,4))\n",
    "df_plot.hist(bins=np.arange(-1,1,1/10),\n",
    "             ax=ax,\n",
    "             color=\"#A82417\")\n",
    "plt.xlabel('Score')\n",
    "plt.ylabel('Frequency')\n",
    "ax.grid(False)\n",
    "plt.show()\n",
    "\n",
    "# paludan blue\n",
    "df_plot = df_blue.oversat.str.contains('paludan')\n",
    "df_plot = df_blue[df_plot == True]\n",
    "df_plot = df_plot.sentiment_score_compound\n",
    "print(df_plot.mean())\n",
    "print(df_plot.count())\n",
    "fig, ax = plt.subplots(figsize=(8,4))\n",
    "df_plot.hist(bins=np.arange(-1,1,1/10),\n",
    "             ax=ax,\n",
    "             color=\"#265A9D\")\n",
    "plt.xlabel('Score')\n",
    "plt.ylabel('Frequency')\n",
    "ax.grid(False)\n",
    "plt.show()"
   ]
  },
  {
   "cell_type": "code",
   "execution_count": 158,
   "metadata": {},
   "outputs": [
    {
     "name": "stdout",
     "output_type": "stream",
     "text": [
      "0.1841931747673216\n",
      "967\n"
     ]
    },
    {
     "data": {
      "image/png": "[encoded data removed]",
      "text/plain": [
       "<Figure size 576x288 with 1 Axes>"
      ]
     },
     "metadata": {
      "needs_background": "light"
     },
     "output_type": "display_data"
    },
    {
     "name": "stdout",
     "output_type": "stream",
     "text": [
      "0.23833743500866553\n",
      "577\n"
     ]
    },
    {
     "data": {
      "image/png": "[encoded data removed]",
      "text/plain": [
       "<Figure size 576x288 with 1 Axes>"
      ]
     },
     "metadata": {
      "needs_background": "light"
     },
     "output_type": "display_data"
    }
   ],
   "source": [
    "# eu red\n",
    "df_plot = df_red.oversat.str.contains('eu')\n",
    "df_plot = df_red[df_plot == True]\n",
    "df_plot = df_plot.sentiment_score_compound\n",
    "print(df_plot.mean())\n",
    "print(df_plot.count())\n",
    "fig, ax = plt.subplots(figsize=(8,4))\n",
    "df_plot.hist(bins=np.arange(-1,1,1/10),\n",
    "             ax=ax,\n",
    "             color=\"#A82417\")\n",
    "plt.xlabel('Score')\n",
    "plt.ylabel('Frequency')\n",
    "ax.grid(False)\n",
    "plt.show()\n",
    "\n",
    "# eu blue\n",
    "df_plot = df_blue.oversat.str.contains('eu')\n",
    "df_plot = df_blue[df_plot == True]\n",
    "df_plot = df_plot.sentiment_score_compound\n",
    "print(df_plot.mean())\n",
    "print(df_plot.count())\n",
    "fig, ax = plt.subplots(figsize=(8,4))\n",
    "df_plot.hist(bins=np.arange(-1,1,1/10),\n",
    "             ax=ax,\n",
    "             color=\"#265A9D\")\n",
    "plt.xlabel('Score')\n",
    "plt.ylabel('Frequency')\n",
    "ax.grid(False)\n",
    "plt.show()"
   ]
  },
  {
   "cell_type": "code",
   "execution_count": null,
   "metadata": {},
   "outputs": [],
   "source": [
    "# eu red\n",
    "df_plot = df_red.oversat.str.contains('health')\n",
    "df_plot = df_red[df_plot == True]\n",
    "df_plot = df_plot.sentiment_score_compound\n",
    "print(df_plot.mean())\n",
    "print(df_plot.count())\n",
    "fig, ax = plt.subplots(figsize=(8,4))\n",
    "df_plot.hist(bins=np.arange(-1,1,1/10),\n",
    "             ax=ax,\n",
    "             color=\"#A82417\")\n",
    "plt.xlabel('Score')\n",
    "plt.ylabel('Frequency')\n",
    "ax.grid(False)\n",
    "plt.show()\n",
    "\n",
    "# eu blue\n",
    "df_plot = df_blue.oversat.str.contains('health')\n",
    "df_plot = df_blue[df_plot == True]\n",
    "df_plot = df_plot.sentiment_score_compound\n",
    "print(df_plot.mean())\n",
    "print(df_plot.count())\n",
    "fig, ax = plt.subplots(figsize=(8,4))\n",
    "df_plot.hist(bins=np.arange(-1,1,1/10),\n",
    "             ax=ax,\n",
    "             color=\"#265A9D\")\n",
    "plt.xlabel('Score')\n",
    "plt.ylabel('Frequency')\n",
    "ax.grid(False)\n",
    "plt.show()"
   ]
  },
  {
   "cell_type": "code",
   "execution_count": 22,
   "metadata": {},
   "outputs": [
    {
     "data": {
      "text/html": [
       "<div>\n",
       "<style scoped>\n",
       "    .dataframe tbody tr th:only-of-type {\n",
       "        vertical-align: middle;\n",
       "    }\n",
       "\n",
       "    .dataframe tbody tr th {\n",
       "        vertical-align: top;\n",
       "    }\n",
       "\n",
       "    .dataframe thead th {\n",
       "        text-align: right;\n",
       "    }\n",
       "</style>\n",
       "<table border=\"1\" class=\"dataframe\">\n",
       "  <thead>\n",
       "    <tr style=\"text-align: right;\">\n",
       "      <th></th>\n",
       "      <th>sentiment_score_neg</th>\n",
       "      <th>sentiment_score_neu</th>\n",
       "      <th>sentiment_score_pos</th>\n",
       "      <th>sentiment_score_compound</th>\n",
       "    </tr>\n",
       "    <tr>\n",
       "      <th>Parti</th>\n",
       "      <th></th>\n",
       "      <th></th>\n",
       "      <th></th>\n",
       "      <th></th>\n",
       "    </tr>\n",
       "  </thead>\n",
       "  <tbody>\n",
       "    <tr>\n",
       "      <th>A</th>\n",
       "      <td>0.06</td>\n",
       "      <td>0.82</td>\n",
       "      <td>0.12</td>\n",
       "      <td>0.15</td>\n",
       "    </tr>\n",
       "    <tr>\n",
       "      <th>B</th>\n",
       "      <td>0.05</td>\n",
       "      <td>0.82</td>\n",
       "      <td>0.13</td>\n",
       "      <td>0.20</td>\n",
       "    </tr>\n",
       "    <tr>\n",
       "      <th>C</th>\n",
       "      <td>0.06</td>\n",
       "      <td>0.81</td>\n",
       "      <td>0.13</td>\n",
       "      <td>0.16</td>\n",
       "    </tr>\n",
       "    <tr>\n",
       "      <th>F</th>\n",
       "      <td>0.05</td>\n",
       "      <td>0.82</td>\n",
       "      <td>0.13</td>\n",
       "      <td>0.17</td>\n",
       "    </tr>\n",
       "    <tr>\n",
       "      <th>I</th>\n",
       "      <td>0.06</td>\n",
       "      <td>0.82</td>\n",
       "      <td>0.12</td>\n",
       "      <td>0.16</td>\n",
       "    </tr>\n",
       "    <tr>\n",
       "      <th>O</th>\n",
       "      <td>0.07</td>\n",
       "      <td>0.82</td>\n",
       "      <td>0.11</td>\n",
       "      <td>0.10</td>\n",
       "    </tr>\n",
       "    <tr>\n",
       "      <th>V</th>\n",
       "      <td>0.04</td>\n",
       "      <td>0.83</td>\n",
       "      <td>0.13</td>\n",
       "      <td>0.24</td>\n",
       "    </tr>\n",
       "    <tr>\n",
       "      <th>Å</th>\n",
       "      <td>0.05</td>\n",
       "      <td>0.84</td>\n",
       "      <td>0.10</td>\n",
       "      <td>0.14</td>\n",
       "    </tr>\n",
       "    <tr>\n",
       "      <th>Ø</th>\n",
       "      <td>0.07</td>\n",
       "      <td>0.83</td>\n",
       "      <td>0.10</td>\n",
       "      <td>0.10</td>\n",
       "    </tr>\n",
       "  </tbody>\n",
       "</table>\n",
       "</div>"
      ],
      "text/plain": [
       "       sentiment_score_neg  sentiment_score_neu  sentiment_score_pos  \\\n",
       "Parti                                                                  \n",
       "A                     0.06                 0.82                 0.12   \n",
       "B                     0.05                 0.82                 0.13   \n",
       "C                     0.06                 0.81                 0.13   \n",
       "F                     0.05                 0.82                 0.13   \n",
       "I                     0.06                 0.82                 0.12   \n",
       "O                     0.07                 0.82                 0.11   \n",
       "V                     0.04                 0.83                 0.13   \n",
       "Å                     0.05                 0.84                 0.10   \n",
       "Ø                     0.07                 0.83                 0.10   \n",
       "\n",
       "       sentiment_score_compound  \n",
       "Parti                            \n",
       "A                          0.15  \n",
       "B                          0.20  \n",
       "C                          0.16  \n",
       "F                          0.17  \n",
       "I                          0.16  \n",
       "O                          0.10  \n",
       "V                          0.24  \n",
       "Å                          0.14  \n",
       "Ø                          0.10  "
      ]
     },
     "execution_count": 22,
     "metadata": {},
     "output_type": "execute_result"
    }
   ],
   "source": [
    "# parti comparison\n",
    "df.groupby(['Parti']).mean().iloc[:,[-4,-3,-2,-1]].round(2)"
   ]
  },
  {
   "cell_type": "code",
   "execution_count": 10,
   "metadata": {
    "scrolled": false
   },
   "outputs": [
    {
     "data": {
      "text/html": [
       "<div>\n",
       "<style scoped>\n",
       "    .dataframe tbody tr th:only-of-type {\n",
       "        vertical-align: middle;\n",
       "    }\n",
       "\n",
       "    .dataframe tbody tr th {\n",
       "        vertical-align: top;\n",
       "    }\n",
       "\n",
       "    .dataframe thead th {\n",
       "        text-align: right;\n",
       "    }\n",
       "</style>\n",
       "<table border=\"1\" class=\"dataframe\">\n",
       "  <thead>\n",
       "    <tr style=\"text-align: right;\">\n",
       "      <th></th>\n",
       "      <th>Followers</th>\n",
       "      <th>Likes</th>\n",
       "      <th>Retweets</th>\n",
       "      <th>Score</th>\n",
       "      <th>Parti_tal</th>\n",
       "      <th>Account_Type</th>\n",
       "      <th>Retweet</th>\n",
       "      <th>text_len</th>\n",
       "      <th>text_sum</th>\n",
       "      <th>sentiment_score_neg</th>\n",
       "      <th>sentiment_score_neu</th>\n",
       "      <th>sentiment_score_pos</th>\n",
       "      <th>sentiment_score_compound</th>\n",
       "    </tr>\n",
       "    <tr>\n",
       "      <th>Blok</th>\n",
       "      <th></th>\n",
       "      <th></th>\n",
       "      <th></th>\n",
       "      <th></th>\n",
       "      <th></th>\n",
       "      <th></th>\n",
       "      <th></th>\n",
       "      <th></th>\n",
       "      <th></th>\n",
       "      <th></th>\n",
       "      <th></th>\n",
       "      <th></th>\n",
       "      <th></th>\n",
       "    </tr>\n",
       "  </thead>\n",
       "  <tbody>\n",
       "    <tr>\n",
       "      <th>blue</th>\n",
       "      <td>18410.840637</td>\n",
       "      <td>86.158769</td>\n",
       "      <td>20.194282</td>\n",
       "      <td>-14.793793</td>\n",
       "      <td>4.487387</td>\n",
       "      <td>0.044614</td>\n",
       "      <td>0.289841</td>\n",
       "      <td>148.899199</td>\n",
       "      <td>1.846128e+06</td>\n",
       "      <td>0.057858</td>\n",
       "      <td>0.821717</td>\n",
       "      <td>0.120420</td>\n",
       "      <td>0.170407</td>\n",
       "    </tr>\n",
       "    <tr>\n",
       "      <th>red</th>\n",
       "      <td>20519.600778</td>\n",
       "      <td>318.295577</td>\n",
       "      <td>90.654791</td>\n",
       "      <td>-2.964767</td>\n",
       "      <td>4.442506</td>\n",
       "      <td>0.066830</td>\n",
       "      <td>0.386425</td>\n",
       "      <td>152.400676</td>\n",
       "      <td>2.084975e+06</td>\n",
       "      <td>0.058687</td>\n",
       "      <td>0.826017</td>\n",
       "      <td>0.115296</td>\n",
       "      <td>0.146130</td>\n",
       "    </tr>\n",
       "  </tbody>\n",
       "</table>\n",
       "</div>"
      ],
      "text/plain": [
       "         Followers       Likes   Retweets      Score  Parti_tal  Account_Type  \\\n",
       "Blok                                                                            \n",
       "blue  18410.840637   86.158769  20.194282 -14.793793   4.487387      0.044614   \n",
       "red   20519.600778  318.295577  90.654791  -2.964767   4.442506      0.066830   \n",
       "\n",
       "       Retweet    text_len      text_sum  sentiment_score_neg  \\\n",
       "Blok                                                            \n",
       "blue  0.289841  148.899199  1.846128e+06             0.057858   \n",
       "red   0.386425  152.400676  2.084975e+06             0.058687   \n",
       "\n",
       "      sentiment_score_neu  sentiment_score_pos  sentiment_score_compound  \n",
       "Blok                                                                      \n",
       "blue             0.821717             0.120420                  0.170407  \n",
       "red              0.826017             0.115296                  0.146130  "
      ]
     },
     "execution_count": 10,
     "metadata": {},
     "output_type": "execute_result"
    }
   ],
   "source": [
    "# blue vs. red comparison\n",
    "df.groupby(['Blok']).mean()"
   ]
  },
  {
   "cell_type": "markdown",
   "metadata": {},
   "source": [
    "# 8_prediction"
   ]
  },
  {
   "cell_type": "code",
   "execution_count": 5,
   "metadata": {},
   "outputs": [],
   "source": [
    "data = pd.read_csv('sentimented.csv', index_col=[0])\n",
    "data_to_merge = pd.read_csv('data.csv', index_col=[0])\n",
    "df = pd.merge(data,data_to_merge[['Message', 'Retweet_WOC', 'Comment', 'Retweet_WC']],on='Message', how='left')\n",
    "data_text = pd.read_csv('en_short_text.csv', index_col=[0])\n",
    "df = pd.merge(df, data_text, on='Message', how='left')\n",
    "df = df.drop_duplicates()\n",
    "df = df.reset_index(drop=True)"
   ]
  },
  {
   "cell_type": "code",
   "execution_count": 6,
   "metadata": {},
   "outputs": [],
   "source": [
    "df = df.drop(['Account', 'User_Name', 'Type', \n",
    "         'URL', 'Message', 'Screen_Name', \n",
    "         'Link_1', 'Final_Link_1', 'Link_2',\n",
    "         'Final_Link_2', 'Score', 'Navn', \n",
    "         'Parti_tal', 'Account_Type', 'Ymd', \n",
    "         'Msgfrst2', 'Retweet', 'test', 'text', \n",
    "         'text_sum', 'sentiment_score_neg', \n",
    "         'sentiment_score_neu', 'sentiment_score_pos','Message', 'oversat','Blok'], axis=1)"
   ]
  },
  {
   "cell_type": "code",
   "execution_count": 7,
   "metadata": {},
   "outputs": [],
   "source": [
    "df['Date_new'] = pd.to_datetime(df.Date.str.strip(), format = '%Y-%m-%d %H:%M:%S')\n",
    "\n",
    "# hour\n",
    "df['hour'] = df['Date_new'].dt.hour\n",
    "#hour_ = pd.get_dummies(df.hour)\n",
    "#df = pd.concat([df, hour_], axis=1)\n",
    "\n",
    "# weekday\n",
    "df['weekday'] = df['Date_new'].dt.strftime('%A')\n",
    "weekday_ = pd.get_dummies(df.weekday)\n",
    "df = pd.concat([df, weekday_], axis=1)\n",
    "\n",
    "# drop it like its hot\n",
    "df = df.drop(['weekday', 'Date_new', 'Date'], axis=1)\n"
   ]
  },
  {
   "cell_type": "code",
   "execution_count": 8,
   "metadata": {},
   "outputs": [],
   "source": [
    "time_of_day = []\n",
    "for i in range(len(df)):\n",
    "    if 6>df.hour[i]>=0 and df.hour[i]<6:\n",
    "        time_of_day.append('Night')\n",
    "    else:\n",
    "        if 12>df.hour[i]>=6 and df.hour[i]:\n",
    "            time_of_day.append('Morning')\n",
    "        else:\n",
    "            if 18>df.hour[i]>=12:\n",
    "                time_of_day.append('Midday')\n",
    "            else:\n",
    "                if 23>=df.hour[i]>=18:\n",
    "                    time_of_day.append('Evening')\n",
    "\n",
    "#Time of the day\n",
    "time_day = pd.get_dummies(time_of_day)\n",
    "df = pd.concat([df, time_day], axis=1)\n",
    "df = df.drop(['hour'], axis=1)"
   ]
  },
  {
   "cell_type": "code",
   "execution_count": 9,
   "metadata": {},
   "outputs": [],
   "source": [
    "#blok_ = pd.get_dummies(df.Blok)\n",
    "#df = pd.concat([df, blok_], axis=1)\n",
    "\n",
    "parti_ = pd.get_dummies(df.Parti)\n",
    "df = pd.concat([df, parti_], axis=1)\n",
    "\n",
    "\n",
    "df = df.drop(['Parti'], axis=1)"
   ]
  },
  {
   "cell_type": "code",
   "execution_count": 10,
   "metadata": {},
   "outputs": [],
   "source": [
    "# Create a dummy for re-tweets with comments\n",
    "Tweet = []\n",
    "count_ = 0\n",
    "for i in range(len(df)):\n",
    "\n",
    "    if  df['Retweet_WC'][i] ==0 and df['Retweet_WOC'][i] ==0 and df['Comment'][i] ==0:\n",
    "        count_ = count_ + 1\n",
    "        Tweet.append(1)\n",
    "            \n",
    "    else:\n",
    "        Tweet.append(0)\n",
    "\n",
    "df['Tweet'] = pd.DataFrame(Tweet, index=df.index)\n",
    "df = df[df['Tweet'] == 1]\n",
    "df = df.drop(['Comment', 'Retweet_WOC', 'Retweet_WC'], axis=1)\n",
    "df = df.reset_index(drop=True)\n",
    "df = df.drop(['Tweet'], axis=1)"
   ]
  },
  {
   "cell_type": "code",
   "execution_count": 11,
   "metadata": {},
   "outputs": [],
   "source": [
    "#Convert from string to list for look-up\n",
    "def string_to_list(temp):\n",
    "    temp = re.sub(\"[^\\w]\", \" \", temp).split()\n",
    "    return temp\n",
    "\n",
    "df['Text'] = df['lang_reduced'].apply(lambda x: string_to_list(x))\n",
    "df = df.drop(['lang_reduced'], axis=1)"
   ]
  },
  {
   "cell_type": "code",
   "execution_count": 12,
   "metadata": {},
   "outputs": [],
   "source": [
    "climate_ = []\n",
    "health_ =[]\n",
    "children_ = []\n",
    "tax_ = []\n",
    "work_ = []\n",
    "eu_ = []\n",
    "school_ = []\n",
    "election_ = []\n",
    "retirement_ = []\n",
    "welfare_ = []\n",
    "\n",
    "\n",
    "for i in range(len(df)):\n",
    "    if 'climate' in df['Text'][i]:\n",
    "        climate_.append(1)\n",
    "    else:\n",
    "        climate_.append(0)\n",
    "\n",
    "\n",
    "for i in range(len(df)):\n",
    "    if 'health' in df['Text'][i]:\n",
    "        health_.append(1)\n",
    "    else:\n",
    "        health_.append(0)\n",
    "        \n",
    "for i in range(len(df)):\n",
    "    if 'children' in df['Text'][i]:\n",
    "        children_.append(1)\n",
    "    else:\n",
    "        children_.append(0)\n",
    "        \n",
    "for i in range(len(df)):\n",
    "    if 'tax' in df['Text'][i]:\n",
    "        tax_.append(1)\n",
    "    else:\n",
    "        tax_.append(0)\n",
    "\n",
    "for i in range(len(df)):\n",
    "    if 'work' in df['Text'][i]:\n",
    "        work_.append(1)\n",
    "    else:\n",
    "        work_.append(0)\n",
    "\n",
    "for i in range(len(df)):\n",
    "    if 'eu' in df['Text'][i]:\n",
    "        eu_.append(1)\n",
    "    else:\n",
    "        eu_.append(0)\n",
    "\n",
    "for i in range(len(df)):\n",
    "    if 'school' in df['Text'][i]:\n",
    "        school_.append(1)\n",
    "    else:\n",
    "        school_.append(0)\n",
    "\n",
    "for i in range(len(df)):\n",
    "    if 'election' in df['Text'][i]:\n",
    "        election_.append(1)\n",
    "    else:\n",
    "        election_.append(0)\n",
    "\n",
    "for i in range(len(df)):\n",
    "    if 'retirement' in df['Text'][i]:\n",
    "        retirement_.append(1)\n",
    "    else:\n",
    "        retirement_.append(0)\n",
    "\n",
    "for i in range(len(df)):\n",
    "    if 'welfare' in df['Text'][i]:\n",
    "        welfare_.append(1)\n",
    "    else:\n",
    "        welfare_.append(0)\n",
    "\n",
    "df['Climate'] = pd.DataFrame(climate_, index=df.index)\n",
    "df['Health'] = pd.DataFrame(health_, index=df.index)\n",
    "df['Children'] = pd.DataFrame(children_, index=df.index)\n",
    "df['Tax'] = pd.DataFrame(tax_, index=df.index)\n",
    "df['Work'] = pd.DataFrame(work_, index=df.index)\n",
    "df['EU'] = pd.DataFrame(eu_, index=df.index)\n",
    "df['School'] = pd.DataFrame(school_, index=df.index)\n",
    "df['Election'] = pd.DataFrame(election_, index=df.index)\n",
    "df['Retirement'] = pd.DataFrame(retirement_, index=df.index)\n",
    "df['Welfare'] = pd.DataFrame(welfare_, index=df.index)\n",
    "\n",
    "df = df.drop(['Text'], axis=1)\n",
    "#count_"
   ]
  },
  {
   "cell_type": "code",
   "execution_count": 13,
   "metadata": {},
   "outputs": [],
   "source": [
    "df.to_csv('predict_data.csv')"
   ]
  },
  {
   "cell_type": "markdown",
   "metadata": {},
   "source": [
    "## Random Forest"
   ]
  },
  {
   "cell_type": "code",
   "execution_count": 33,
   "metadata": {
    "scrolled": true
   },
   "outputs": [],
   "source": [
    "# reading\n",
    "df = pd.read_csv('predict_data.csv', index_col=([0]))\n",
    "\n",
    "# fixing\n",
    "df = df.fillna(0)\n",
    "\n",
    "# X & y\n",
    "X = df.drop(['Likes'], axis=1)\n",
    "X_col = X.keys()\n",
    "y = df.Likes\n",
    "X = np.array(X)\n",
    "y = np.array(y)\n",
    "\n",
    "# splitting into development (2/3) and test data (1/3)\n",
    "X_train, X_test, y_train, y_test = train_test_split(X, y, test_size=1/4, random_state=1)"
   ]
  },
  {
   "cell_type": "code",
   "execution_count": 42,
   "metadata": {},
   "outputs": [
    {
     "name": "stderr",
     "output_type": "stream",
     "text": [
      "/anaconda3/lib/python3.6/site-packages/sklearn/model_selection/_search.py:813: DeprecationWarning: The default of the `iid` parameter will change from True to False in version 0.22 and will be removed in 0.24. This will change numeric results when test-set sizes are unequal.\n",
      "  DeprecationWarning)\n"
     ]
    }
   ],
   "source": [
    "number_esti =  range(1,200,5)\n",
    "depth = range(1,10,1)\n",
    "\n",
    "pipe_randforest = make_pipeline(RandomForestRegressor(random_state=1)) \n",
    "\n",
    "gs = GridSearchCV(estimator=pipe_randforest, \n",
    "                  param_grid=[{'randomforestregressor__n_estimators':number_esti, \n",
    "                               'randomforestregressor__max_depth':depth}], #Now two hyperparameters\n",
    "                  scoring='neg_mean_squared_error', \n",
    "                  cv=10, n_jobs=-1)\n",
    "\n",
    "gs = gs.fit(X_train, y_train)\n",
    "gs.best_params_\n",
    "\n",
    "\n",
    "rand_forest_number=gs.best_params_.get('randomforestregressor__n_estimators')\n",
    "rand_forest_depth=gs.best_params_.get('randomforestregressor__max_depth')\n",
    "\n",
    "pipe_randforest_final = make_pipeline(RandomForestRegressor(random_state=1, n_estimators=rand_forest_number,max_depth=rand_forest_depth))\n",
    "pipe_randforest_final.fit(X_train, y_train)\n",
    "\n",
    "# mse\n",
    "mseCVforest_train=mse(y_train,pipe_randforest_final.predict(X_train))\n",
    "mseCVforest_test=mse(y_test,pipe_randforest_final.predict(X_test))\n",
    "\n"
   ]
  },
  {
   "cell_type": "code",
   "execution_count": 56,
   "metadata": {},
   "outputs": [
    {
     "name": "stdout",
     "output_type": "stream",
     "text": [
      "3473.8\n",
      "8836.17\n",
      "{'randomforestregressor__max_depth': 5, 'randomforestregressor__n_estimators': 6}\n"
     ]
    }
   ],
   "source": [
    "print(round(mseCVforest_train,2))\n",
    "print(round(mseCVforest_test,2))\n",
    "print(gs.best_params_)"
   ]
  },
  {
   "cell_type": "code",
   "execution_count": 58,
   "metadata": {},
   "outputs": [
    {
     "name": "stdout",
     "output_type": "stream",
     "text": [
      "Train MSE: 3473.804517560492\n",
      "Test MSE: 8836.166545264963\n"
     ]
    }
   ],
   "source": [
    "forest = RandomForestRegressor(n_estimators=6,max_depth=5,criterion='mse',random_state=1,n_jobs=-1) #n_estimators=1000,criterion='mse',random_state=1,max_depth=10,n_jobs=-1)\n",
    "forest.fit(X_train,y_train)\n",
    "y_train_pred = forest.predict(X_train)\n",
    "y_test_pred = forest.predict(X_test)\n",
    "print('Train MSE: '+ str(mse(y_train,y_train_pred)))\n",
    "print('Test MSE: '+ str(mse(y_test,y_test_pred)))\n"
   ]
  },
  {
   "cell_type": "code",
   "execution_count": 45,
   "metadata": {},
   "outputs": [
    {
     "data": {
      "image/png": "[encoded data removed]",
      "text/plain": [
       "<Figure size 576x432 with 1 Axes>"
      ]
     },
     "metadata": {
      "needs_background": "light"
     },
     "output_type": "display_data"
    }
   ],
   "source": [
    "figure(figsize = (8,6))\n",
    "\n",
    "plt.scatter(y_train_pred, y_train_pred - y_train,\n",
    "            label = 'Training data',\n",
    "            c = 'blue',\n",
    "            marker = 'o',\n",
    "            edgecolor = 'white')\n",
    "\n",
    "plt.scatter(y_test_pred, y_test_pred - y_test,\n",
    "            label = 'Test data',\n",
    "            c = 'orange',\n",
    "            marker = 's',\n",
    "            edgecolor = 'white')\n",
    "\n",
    "plt.xlabel('Predicted values')\n",
    "plt.ylabel('MSE')\n",
    "plt.legend(loc = 'upper left')\n",
    "plt.hlines(y=0, xmin = 0, xmax=4000, color = 'black', lw = 1)\n",
    "plt.ylim([-2000,2000])\n",
    "plt.show()"
   ]
  },
  {
   "cell_type": "code",
   "execution_count": 46,
   "metadata": {},
   "outputs": [
    {
     "data": {
      "text/plain": [
       "Text(0,0.5,'MSE')"
      ]
     },
     "execution_count": 46,
     "metadata": {},
     "output_type": "execute_result"
    },
    {
     "data": {
      "image/png": "[encoded data removed]",
      "text/plain": [
       "<Figure size 576x432 with 1 Axes>"
      ]
     },
     "metadata": {
      "needs_background": "light"
     },
     "output_type": "display_data"
    }
   ],
   "source": [
    "train_sizes, train_scores, test_scores = \\\n",
    "    learning_curve(estimator=forest,\n",
    "                   X=X_train,\n",
    "                   y=y_train,\n",
    "                   train_sizes=np.linspace(0.1, 1.0, 10), #array from 0.1  to 1, share of observations used\n",
    "                   scoring='neg_mean_squared_error',  #Turns from min prob to max prob.                \n",
    "                   cv=5) #Crossvalidation steps\n",
    "    \n",
    "#minus again, reverts\n",
    "mse_forrest = pd.DataFrame({'Train':-train_scores.mean(axis=1),\n",
    "                     'Test':-test_scores.mean(axis=1)})\\\n",
    "        .set_index(pd.Index(train_sizes,name='sample size'))  \n",
    "\n",
    "# learn motherfucker\n",
    "f_learn, ax = plt.subplots(figsize=(8,6))\n",
    "mse_forrest.plot(ax=ax, logy=True, color=['blue','orange'])\n",
    "ax.fill_between(train_sizes,\n",
    "                -train_scores.mean(1) + train_scores.std(1)*1.96,\n",
    "                -train_scores.mean(1) - train_scores.std(1)*1.96, \n",
    "                alpha=0.25, \n",
    "                color='orange')\n",
    "ax.set_ylabel('MSE')\n"
   ]
  },
  {
   "cell_type": "code",
   "execution_count": 47,
   "metadata": {},
   "outputs": [
    {
     "name": "stderr",
     "output_type": "stream",
     "text": [
      "/anaconda3/lib/python3.6/site-packages/sklearn/model_selection/_split.py:657: Warning: The least populated class in y has only 1 members, which is too few. The minimum number of members in any class cannot be less than n_splits=3.\n",
      "  % (min_groups, self.n_splits)), Warning)\n"
     ]
    }
   ],
   "source": [
    "# validation curve\n",
    "\n",
    "# Create range of values for parameter\n",
    "param_range = np.arange(1, 50, 1)\n",
    "\n",
    "# Calculate accuracy on training and test set using range of parameter values\n",
    "train_scores, test_scores = validation_curve(RandomForestClassifier(), \n",
    "                                             X, \n",
    "                                             y, \n",
    "                                             param_name=\"n_estimators\", \n",
    "                                             param_range=param_range,\n",
    "                                             cv=3, \n",
    "                                             scoring=\"accuracy\", \n",
    "                                             n_jobs=-1)\n"
   ]
  },
  {
   "cell_type": "code",
   "execution_count": 48,
   "metadata": {},
   "outputs": [
    {
     "data": {
      "image/png": "[encoded data removed]",
      "text/plain": [
       "<Figure size 576x432 with 1 Axes>"
      ]
     },
     "metadata": {
      "needs_background": "light"
     },
     "output_type": "display_data"
    }
   ],
   "source": [
    "# Calculate mean and standard deviation for training set scores\n",
    "train_mean = np.mean(train_scores, axis=1)\n",
    "train_std = np.std(train_scores, axis=1)\n",
    "\n",
    "# Calculate mean and standard deviation for test set scores\n",
    "figure(figsize = (8,6))\n",
    "test_mean = np.mean(test_scores, axis=1)\n",
    "test_std = np.std(test_scores, axis=1)\n",
    "\n",
    "# Plot mean accuracy scores for training and test sets\n",
    "plt.plot(param_range, train_mean, label=\"Training score\", color=\"blue\")\n",
    "plt.plot(param_range, test_mean, label=\"Cross-validation score\", color=\"orange\")\n",
    "\n",
    "# Plot accurancy bands for training and test sets\n",
    "plt.fill_between(param_range, train_mean - train_std, train_mean + train_std, color=\"gray\")\n",
    "plt.fill_between(param_range, test_mean - test_std, test_mean + test_std, color=\"gainsboro\")\n",
    "\n",
    "# Create plot\n",
    "#plt.title(\"Validation Curve With Random Forest\")\n",
    "plt.xlabel(\"Number Of Trees\")\n",
    "plt.ylabel(\"Accuracy Score\")\n",
    "plt.tight_layout()\n",
    "plt.legend(loc=\"best\")\n",
    "plt.show()"
   ]
  },
  {
   "cell_type": "code",
   "execution_count": 49,
   "metadata": {},
   "outputs": [],
   "source": [
    "forest=RandomForestRegressor(random_state=1, n_estimators=rand_forest_number,max_depth=rand_forest_depth)\n",
    "forest.fit(X_train,y_train)\n",
    "importance = forest.feature_importances_.tolist()\n",
    "\n",
    "df_FI = pd.DataFrame({'importances': importance,'features': X_col})\n",
    "df_FI = df_FI.groupby(['importances']).sum().reset_index()\n",
    "df_FI = df_FI.sort_values(by = 'importances', ascending = False)\n",
    "\n",
    "importance = df_FI['importances'].tolist()\n",
    "features = df_FI['features'].tolist()"
   ]
  },
  {
   "cell_type": "code",
   "execution_count": 50,
   "metadata": {},
   "outputs": [
    {
     "data": {
      "text/plain": [
       "array([ True,  True,  True,  True, False, False, False, False, False,\n",
       "       False, False, False, False, False, False, False, False, False,\n",
       "       False, False, False, False, False, False, False, False, False,\n",
       "       False, False, False, False, False, False, False])"
      ]
     },
     "execution_count": 50,
     "metadata": {},
     "output_type": "execute_result"
    }
   ],
   "source": [
    "sel = SelectFromModel(RandomForestClassifier(n_estimators = 100))\n",
    "sel.fit(X_train, y_train)\n",
    "sel.get_support()"
   ]
  },
  {
   "cell_type": "code",
   "execution_count": 52,
   "metadata": {
    "collapsed": true
   },
   "outputs": [
    {
     "data": {
      "image/png": "[encoded data removed]",
      "text/plain": [
       "<Figure size 864x576 with 1 Axes>"
      ]
     },
     "metadata": {
      "needs_background": "light"
     },
     "output_type": "display_data"
    }
   ],
   "source": [
    "figure(figsize = (12,8))\n",
    "#plt.title('Feature Importances')\n",
    "plt.bar(range(len(features)), importance, color='#04365E', align='center')\n",
    "plt.xticks(range(len(features)), X_col, rotation=90)\n",
    "plt.xlim([-1, len(features)])\n",
    "plt.tight_layout()\n",
    "plt.show()"
   ]
  },
  {
   "cell_type": "code",
   "execution_count": 53,
   "metadata": {},
   "outputs": [
    {
     "data": {
      "text/plain": [
       "15.26144023500447"
      ]
     },
     "execution_count": 53,
     "metadata": {},
     "output_type": "execute_result"
    }
   ],
   "source": [
    "importance[0]/importance[1]"
   ]
  },
  {
   "cell_type": "code",
   "execution_count": 54,
   "metadata": {
    "collapsed": true
   },
   "outputs": [
    {
     "data": {
      "image/png": "[encoded data removed]",
      "text/plain": [
       "<Figure size 864x576 with 1 Axes>"
      ]
     },
     "metadata": {
      "needs_background": "light"
     },
     "output_type": "display_data"
    }
   ],
   "source": [
    "figure(figsize = (12,8))\n",
    "#plt.title('Feature Importances')\n",
    "plt.bar(range(len(features)-1), importance[1:], color='#04365E', align='center')\n",
    "plt.xticks(range(len(features)-1), X_col[1:], rotation=90)\n",
    "plt.xlim([-1, len(features)-1])\n",
    "plt.tight_layout()\n",
    "plt.show()"
   ]
  }
 ],
 "metadata": {
  "kernelspec": {
   "display_name": "Python 3",
   "language": "python",
   "name": "python3"
  },
  "language_info": {
   "codemirror_mode": {
    "name": "ipython",
    "version": 3
   },
   "file_extension": ".py",
   "mimetype": "text/x-python",
   "name": "python",
   "nbconvert_exporter": "python",
   "pygments_lexer": "ipython3",
   "version": "3.7.4"
  }
 },
 "nbformat": 4,
 "nbformat_minor": 2
}
